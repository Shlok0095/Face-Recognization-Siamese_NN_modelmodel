{
 "cells": [
  {
   "cell_type": "markdown",
   "id": "5b7bda01",
   "metadata": {},
   "source": [
    "# 1. Setup\n",
    "1.1 Install Dependencies"
   ]
  },
  {
   "cell_type": "code",
   "execution_count": 1,
   "id": "42754abb",
   "metadata": {},
   "outputs": [
    {
     "name": "stdout",
     "output_type": "stream",
     "text": [
      "Requirement already satisfied: tensorflow in c:\\programdata\\anaconda3\\envs\\jupnb\\lib\\site-packages (2.10.1)\n",
      "Requirement already satisfied: opencv-python in c:\\programdata\\anaconda3\\envs\\jupnb\\lib\\site-packages (4.9.0.80)\n",
      "Requirement already satisfied: matplotlib in c:\\programdata\\anaconda3\\envs\\jupnb\\lib\\site-packages (3.8.2)\n",
      "Requirement already satisfied: jupyter_contrib_nbextensions in c:\\programdata\\anaconda3\\envs\\jupnb\\lib\\site-packages (0.7.0)\n",
      "Requirement already satisfied: absl-py>=1.0.0 in c:\\programdata\\anaconda3\\envs\\jupnb\\lib\\site-packages (from tensorflow) (2.0.0)\n",
      "Requirement already satisfied: astunparse>=1.6.0 in c:\\programdata\\anaconda3\\envs\\jupnb\\lib\\site-packages (from tensorflow) (1.6.3)\n",
      "Requirement already satisfied: flatbuffers>=2.0 in c:\\programdata\\anaconda3\\envs\\jupnb\\lib\\site-packages (from tensorflow) (23.5.26)\n",
      "Requirement already satisfied: gast<=0.4.0,>=0.2.1 in c:\\programdata\\anaconda3\\envs\\jupnb\\lib\\site-packages (from tensorflow) (0.4.0)\n",
      "Requirement already satisfied: google-pasta>=0.1.1 in c:\\programdata\\anaconda3\\envs\\jupnb\\lib\\site-packages (from tensorflow) (0.2.0)\n",
      "Requirement already satisfied: h5py>=2.9.0 in c:\\programdata\\anaconda3\\envs\\jupnb\\lib\\site-packages (from tensorflow) (3.10.0)\n",
      "Requirement already satisfied: keras-preprocessing>=1.1.1 in c:\\programdata\\anaconda3\\envs\\jupnb\\lib\\site-packages (from tensorflow) (1.1.2)\n",
      "Requirement already satisfied: libclang>=13.0.0 in c:\\programdata\\anaconda3\\envs\\jupnb\\lib\\site-packages (from tensorflow) (16.0.6)\n",
      "Requirement already satisfied: numpy>=1.20 in c:\\programdata\\anaconda3\\envs\\jupnb\\lib\\site-packages (from tensorflow) (1.26.2)\n",
      "Requirement already satisfied: opt-einsum>=2.3.2 in c:\\programdata\\anaconda3\\envs\\jupnb\\lib\\site-packages (from tensorflow) (3.3.0)\n",
      "Requirement already satisfied: packaging in c:\\programdata\\anaconda3\\envs\\jupnb\\lib\\site-packages (from tensorflow) (23.1)\n",
      "Requirement already satisfied: protobuf<3.20,>=3.9.2 in c:\\programdata\\anaconda3\\envs\\jupnb\\lib\\site-packages (from tensorflow) (3.19.6)\n",
      "Requirement already satisfied: setuptools in c:\\programdata\\anaconda3\\envs\\jupnb\\lib\\site-packages (from tensorflow) (68.2.2)\n",
      "Requirement already satisfied: six>=1.12.0 in c:\\programdata\\anaconda3\\envs\\jupnb\\lib\\site-packages (from tensorflow) (1.16.0)\n",
      "Requirement already satisfied: termcolor>=1.1.0 in c:\\programdata\\anaconda3\\envs\\jupnb\\lib\\site-packages (from tensorflow) (2.4.0)\n",
      "Requirement already satisfied: typing-extensions>=3.6.6 in c:\\programdata\\anaconda3\\envs\\jupnb\\lib\\site-packages (from tensorflow) (4.7.1)\n",
      "Requirement already satisfied: wrapt>=1.11.0 in c:\\programdata\\anaconda3\\envs\\jupnb\\lib\\site-packages (from tensorflow) (1.16.0)\n",
      "Requirement already satisfied: tensorflow-io-gcs-filesystem>=0.23.1 in c:\\programdata\\anaconda3\\envs\\jupnb\\lib\\site-packages (from tensorflow) (0.31.0)\n",
      "Requirement already satisfied: grpcio<2.0,>=1.24.3 in c:\\programdata\\anaconda3\\envs\\jupnb\\lib\\site-packages (from tensorflow) (1.60.0)\n",
      "Requirement already satisfied: tensorboard<2.11,>=2.10 in c:\\programdata\\anaconda3\\envs\\jupnb\\lib\\site-packages (from tensorflow) (2.10.1)\n",
      "Requirement already satisfied: tensorflow-estimator<2.11,>=2.10.0 in c:\\programdata\\anaconda3\\envs\\jupnb\\lib\\site-packages (from tensorflow) (2.10.0)\n",
      "Requirement already satisfied: keras<2.11,>=2.10.0 in c:\\programdata\\anaconda3\\envs\\jupnb\\lib\\site-packages (from tensorflow) (2.10.0)\n",
      "Requirement already satisfied: contourpy>=1.0.1 in c:\\programdata\\anaconda3\\envs\\jupnb\\lib\\site-packages (from matplotlib) (1.2.0)\n",
      "Requirement already satisfied: cycler>=0.10 in c:\\programdata\\anaconda3\\envs\\jupnb\\lib\\site-packages (from matplotlib) (0.12.1)\n",
      "Requirement already satisfied: fonttools>=4.22.0 in c:\\programdata\\anaconda3\\envs\\jupnb\\lib\\site-packages (from matplotlib) (4.47.0)\n",
      "Requirement already satisfied: kiwisolver>=1.3.1 in c:\\programdata\\anaconda3\\envs\\jupnb\\lib\\site-packages (from matplotlib) (1.4.5)\n",
      "Requirement already satisfied: pillow>=8 in c:\\programdata\\anaconda3\\envs\\jupnb\\lib\\site-packages (from matplotlib) (10.1.0)\n",
      "Requirement already satisfied: pyparsing>=2.3.1 in c:\\programdata\\anaconda3\\envs\\jupnb\\lib\\site-packages (from matplotlib) (3.1.1)\n",
      "Requirement already satisfied: python-dateutil>=2.7 in c:\\programdata\\anaconda3\\envs\\jupnb\\lib\\site-packages (from matplotlib) (2.8.2)\n",
      "Requirement already satisfied: ipython-genutils in c:\\programdata\\anaconda3\\envs\\jupnb\\lib\\site-packages (from jupyter_contrib_nbextensions) (0.2.0)\n",
      "Requirement already satisfied: jupyter-contrib-core>=0.3.3 in c:\\programdata\\anaconda3\\envs\\jupnb\\lib\\site-packages (from jupyter_contrib_nbextensions) (0.4.2)\n",
      "Requirement already satisfied: jupyter-core in c:\\programdata\\anaconda3\\envs\\jupnb\\lib\\site-packages (from jupyter_contrib_nbextensions) (5.5.0)\n",
      "Requirement already satisfied: jupyter-highlight-selected-word>=0.1.1 in c:\\programdata\\anaconda3\\envs\\jupnb\\lib\\site-packages (from jupyter_contrib_nbextensions) (0.2.0)\n",
      "Requirement already satisfied: jupyter-nbextensions-configurator>=0.4.0 in c:\\programdata\\anaconda3\\envs\\jupnb\\lib\\site-packages (from jupyter_contrib_nbextensions) (0.6.3)\n",
      "Requirement already satisfied: nbconvert>=6.0 in c:\\programdata\\anaconda3\\envs\\jupnb\\lib\\site-packages (from jupyter_contrib_nbextensions) (7.10.0)\n",
      "Requirement already satisfied: notebook>=6.0 in c:\\programdata\\anaconda3\\envs\\jupnb\\lib\\site-packages (from jupyter_contrib_nbextensions) (6.5.4)\n",
      "Requirement already satisfied: tornado in c:\\programdata\\anaconda3\\envs\\jupnb\\lib\\site-packages (from jupyter_contrib_nbextensions) (6.3.3)\n",
      "Requirement already satisfied: traitlets>=4.1 in c:\\programdata\\anaconda3\\envs\\jupnb\\lib\\site-packages (from jupyter_contrib_nbextensions) (5.7.1)\n",
      "Requirement already satisfied: lxml in c:\\programdata\\anaconda3\\envs\\jupnb\\lib\\site-packages (from jupyter_contrib_nbextensions) (5.0.0)\n",
      "Requirement already satisfied: wheel<1.0,>=0.23.0 in c:\\programdata\\anaconda3\\envs\\jupnb\\lib\\site-packages (from astunparse>=1.6.0->tensorflow) (0.41.2)\n",
      "Requirement already satisfied: pyyaml in c:\\programdata\\anaconda3\\envs\\jupnb\\lib\\site-packages (from jupyter-nbextensions-configurator>=0.4.0->jupyter_contrib_nbextensions) (6.0.1)\n",
      "Requirement already satisfied: beautifulsoup4 in c:\\programdata\\anaconda3\\envs\\jupnb\\lib\\site-packages (from nbconvert>=6.0->jupyter_contrib_nbextensions) (4.12.2)\n",
      "Requirement already satisfied: bleach!=5.0.0 in c:\\programdata\\anaconda3\\envs\\jupnb\\lib\\site-packages (from nbconvert>=6.0->jupyter_contrib_nbextensions) (4.1.0)\n",
      "Requirement already satisfied: defusedxml in c:\\programdata\\anaconda3\\envs\\jupnb\\lib\\site-packages (from nbconvert>=6.0->jupyter_contrib_nbextensions) (0.7.1)\n",
      "Requirement already satisfied: jinja2>=3.0 in c:\\programdata\\anaconda3\\envs\\jupnb\\lib\\site-packages (from nbconvert>=6.0->jupyter_contrib_nbextensions) (3.1.2)\n",
      "Requirement already satisfied: jupyterlab-pygments in c:\\programdata\\anaconda3\\envs\\jupnb\\lib\\site-packages (from nbconvert>=6.0->jupyter_contrib_nbextensions) (0.1.2)\n",
      "Requirement already satisfied: markupsafe>=2.0 in c:\\programdata\\anaconda3\\envs\\jupnb\\lib\\site-packages (from nbconvert>=6.0->jupyter_contrib_nbextensions) (2.1.1)\n",
      "Requirement already satisfied: mistune<4,>=2.0.3 in c:\\programdata\\anaconda3\\envs\\jupnb\\lib\\site-packages (from nbconvert>=6.0->jupyter_contrib_nbextensions) (2.0.4)\n",
      "Requirement already satisfied: nbclient>=0.5.0 in c:\\programdata\\anaconda3\\envs\\jupnb\\lib\\site-packages (from nbconvert>=6.0->jupyter_contrib_nbextensions) (0.8.0)\n",
      "Requirement already satisfied: nbformat>=5.7 in c:\\programdata\\anaconda3\\envs\\jupnb\\lib\\site-packages (from nbconvert>=6.0->jupyter_contrib_nbextensions) (5.9.2)\n",
      "Requirement already satisfied: pandocfilters>=1.4.1 in c:\\programdata\\anaconda3\\envs\\jupnb\\lib\\site-packages (from nbconvert>=6.0->jupyter_contrib_nbextensions) (1.5.0)\n",
      "Requirement already satisfied: pygments>=2.4.1 in c:\\programdata\\anaconda3\\envs\\jupnb\\lib\\site-packages (from nbconvert>=6.0->jupyter_contrib_nbextensions) (2.15.1)\n",
      "Requirement already satisfied: tinycss2 in c:\\programdata\\anaconda3\\envs\\jupnb\\lib\\site-packages (from nbconvert>=6.0->jupyter_contrib_nbextensions) (1.2.1)\n",
      "Requirement already satisfied: platformdirs>=2.5 in c:\\programdata\\anaconda3\\envs\\jupnb\\lib\\site-packages (from jupyter-core->jupyter_contrib_nbextensions) (3.10.0)\n",
      "Requirement already satisfied: pywin32>=300 in c:\\programdata\\anaconda3\\envs\\jupnb\\lib\\site-packages (from jupyter-core->jupyter_contrib_nbextensions) (305.1)\n",
      "Requirement already satisfied: pyzmq>=17 in c:\\programdata\\anaconda3\\envs\\jupnb\\lib\\site-packages (from notebook>=6.0->jupyter_contrib_nbextensions) (25.1.0)\n",
      "Requirement already satisfied: argon2-cffi in c:\\programdata\\anaconda3\\envs\\jupnb\\lib\\site-packages (from notebook>=6.0->jupyter_contrib_nbextensions) (21.3.0)\n",
      "Requirement already satisfied: jupyter-client>=5.3.4 in c:\\programdata\\anaconda3\\envs\\jupnb\\lib\\site-packages (from notebook>=6.0->jupyter_contrib_nbextensions) (8.6.0)\n",
      "Requirement already satisfied: nest-asyncio>=1.5 in c:\\programdata\\anaconda3\\envs\\jupnb\\lib\\site-packages (from notebook>=6.0->jupyter_contrib_nbextensions) (1.5.6)\n",
      "Requirement already satisfied: ipykernel in c:\\programdata\\anaconda3\\envs\\jupnb\\lib\\site-packages (from notebook>=6.0->jupyter_contrib_nbextensions) (6.25.0)\n",
      "Requirement already satisfied: Send2Trash>=1.8.0 in c:\\programdata\\anaconda3\\envs\\jupnb\\lib\\site-packages (from notebook>=6.0->jupyter_contrib_nbextensions) (1.8.2)\n",
      "Requirement already satisfied: terminado>=0.8.3 in c:\\programdata\\anaconda3\\envs\\jupnb\\lib\\site-packages (from notebook>=6.0->jupyter_contrib_nbextensions) (0.17.1)\n",
      "Requirement already satisfied: prometheus-client in c:\\programdata\\anaconda3\\envs\\jupnb\\lib\\site-packages (from notebook>=6.0->jupyter_contrib_nbextensions) (0.14.1)\n",
      "Requirement already satisfied: nbclassic>=0.4.7 in c:\\programdata\\anaconda3\\envs\\jupnb\\lib\\site-packages (from notebook>=6.0->jupyter_contrib_nbextensions) (1.0.0)\n",
      "Requirement already satisfied: google-auth<3,>=1.6.3 in c:\\programdata\\anaconda3\\envs\\jupnb\\lib\\site-packages (from tensorboard<2.11,>=2.10->tensorflow) (2.25.2)\n",
      "Requirement already satisfied: google-auth-oauthlib<0.5,>=0.4.1 in c:\\programdata\\anaconda3\\envs\\jupnb\\lib\\site-packages (from tensorboard<2.11,>=2.10->tensorflow) (0.4.6)\n",
      "Requirement already satisfied: markdown>=2.6.8 in c:\\programdata\\anaconda3\\envs\\jupnb\\lib\\site-packages (from tensorboard<2.11,>=2.10->tensorflow) (3.5.1)\n",
      "Requirement already satisfied: requests<3,>=2.21.0 in c:\\programdata\\anaconda3\\envs\\jupnb\\lib\\site-packages (from tensorboard<2.11,>=2.10->tensorflow) (2.31.0)\n",
      "Requirement already satisfied: tensorboard-data-server<0.7.0,>=0.6.0 in c:\\programdata\\anaconda3\\envs\\jupnb\\lib\\site-packages (from tensorboard<2.11,>=2.10->tensorflow) (0.6.1)\n",
      "Requirement already satisfied: tensorboard-plugin-wit>=1.6.0 in c:\\programdata\\anaconda3\\envs\\jupnb\\lib\\site-packages (from tensorboard<2.11,>=2.10->tensorflow) (1.8.1)\n",
      "Requirement already satisfied: werkzeug>=1.0.1 in c:\\programdata\\anaconda3\\envs\\jupnb\\lib\\site-packages (from tensorboard<2.11,>=2.10->tensorflow) (3.0.1)\n",
      "Requirement already satisfied: webencodings in c:\\programdata\\anaconda3\\envs\\jupnb\\lib\\site-packages (from bleach!=5.0.0->nbconvert>=6.0->jupyter_contrib_nbextensions) (0.5.1)\n",
      "Requirement already satisfied: cachetools<6.0,>=2.0.0 in c:\\programdata\\anaconda3\\envs\\jupnb\\lib\\site-packages (from google-auth<3,>=1.6.3->tensorboard<2.11,>=2.10->tensorflow) (5.3.2)\n",
      "Requirement already satisfied: pyasn1-modules>=0.2.1 in c:\\programdata\\anaconda3\\envs\\jupnb\\lib\\site-packages (from google-auth<3,>=1.6.3->tensorboard<2.11,>=2.10->tensorflow) (0.3.0)\n",
      "Requirement already satisfied: rsa<5,>=3.1.4 in c:\\programdata\\anaconda3\\envs\\jupnb\\lib\\site-packages (from google-auth<3,>=1.6.3->tensorboard<2.11,>=2.10->tensorflow) (4.9)\n",
      "Requirement already satisfied: requests-oauthlib>=0.7.0 in c:\\programdata\\anaconda3\\envs\\jupnb\\lib\\site-packages (from google-auth-oauthlib<0.5,>=0.4.1->tensorboard<2.11,>=2.10->tensorflow) (1.3.1)\n",
      "Requirement already satisfied: jupyter-server>=1.8 in c:\\programdata\\anaconda3\\envs\\jupnb\\lib\\site-packages (from nbclassic>=0.4.7->notebook>=6.0->jupyter_contrib_nbextensions) (2.10.0)\n",
      "Requirement already satisfied: notebook-shim>=0.2.3 in c:\\programdata\\anaconda3\\envs\\jupnb\\lib\\site-packages (from nbclassic>=0.4.7->notebook>=6.0->jupyter_contrib_nbextensions) (0.2.3)\n",
      "Requirement already satisfied: fastjsonschema in c:\\programdata\\anaconda3\\envs\\jupnb\\lib\\site-packages (from nbformat>=5.7->nbconvert>=6.0->jupyter_contrib_nbextensions) (2.16.2)\n",
      "Requirement already satisfied: jsonschema>=2.6 in c:\\programdata\\anaconda3\\envs\\jupnb\\lib\\site-packages (from nbformat>=5.7->nbconvert>=6.0->jupyter_contrib_nbextensions) (4.19.2)\n",
      "Requirement already satisfied: charset-normalizer<4,>=2 in c:\\programdata\\anaconda3\\envs\\jupnb\\lib\\site-packages (from requests<3,>=2.21.0->tensorboard<2.11,>=2.10->tensorflow) (2.0.4)\n",
      "Requirement already satisfied: idna<4,>=2.5 in c:\\programdata\\anaconda3\\envs\\jupnb\\lib\\site-packages (from requests<3,>=2.21.0->tensorboard<2.11,>=2.10->tensorflow) (3.4)\n",
      "Requirement already satisfied: urllib3<3,>=1.21.1 in c:\\programdata\\anaconda3\\envs\\jupnb\\lib\\site-packages (from requests<3,>=2.21.0->tensorboard<2.11,>=2.10->tensorflow) (1.26.18)\n",
      "Requirement already satisfied: certifi>=2017.4.17 in c:\\programdata\\anaconda3\\envs\\jupnb\\lib\\site-packages (from requests<3,>=2.21.0->tensorboard<2.11,>=2.10->tensorflow) (2023.11.17)\n",
      "Requirement already satisfied: pywinpty>=1.1.0 in c:\\programdata\\anaconda3\\envs\\jupnb\\lib\\site-packages (from terminado>=0.8.3->notebook>=6.0->jupyter_contrib_nbextensions) (2.0.10)\n",
      "Requirement already satisfied: argon2-cffi-bindings in c:\\programdata\\anaconda3\\envs\\jupnb\\lib\\site-packages (from argon2-cffi->notebook>=6.0->jupyter_contrib_nbextensions) (21.2.0)\n",
      "Requirement already satisfied: soupsieve>1.2 in c:\\programdata\\anaconda3\\envs\\jupnb\\lib\\site-packages (from beautifulsoup4->nbconvert>=6.0->jupyter_contrib_nbextensions) (2.5)\n",
      "Requirement already satisfied: comm>=0.1.1 in c:\\programdata\\anaconda3\\envs\\jupnb\\lib\\site-packages (from ipykernel->notebook>=6.0->jupyter_contrib_nbextensions) (0.1.2)\n",
      "Requirement already satisfied: debugpy>=1.6.5 in c:\\programdata\\anaconda3\\envs\\jupnb\\lib\\site-packages (from ipykernel->notebook>=6.0->jupyter_contrib_nbextensions) (1.6.7)\n",
      "Requirement already satisfied: ipython>=7.23.1 in c:\\programdata\\anaconda3\\envs\\jupnb\\lib\\site-packages (from ipykernel->notebook>=6.0->jupyter_contrib_nbextensions) (8.15.0)\n",
      "Requirement already satisfied: matplotlib-inline>=0.1 in c:\\programdata\\anaconda3\\envs\\jupnb\\lib\\site-packages (from ipykernel->notebook>=6.0->jupyter_contrib_nbextensions) (0.1.6)\n",
      "Requirement already satisfied: psutil in c:\\programdata\\anaconda3\\envs\\jupnb\\lib\\site-packages (from ipykernel->notebook>=6.0->jupyter_contrib_nbextensions) (5.9.0)\n",
      "Requirement already satisfied: backcall in c:\\programdata\\anaconda3\\envs\\jupnb\\lib\\site-packages (from ipython>=7.23.1->ipykernel->notebook>=6.0->jupyter_contrib_nbextensions) (0.2.0)\n",
      "Requirement already satisfied: decorator in c:\\programdata\\anaconda3\\envs\\jupnb\\lib\\site-packages (from ipython>=7.23.1->ipykernel->notebook>=6.0->jupyter_contrib_nbextensions) (5.1.1)\n",
      "Requirement already satisfied: jedi>=0.16 in c:\\programdata\\anaconda3\\envs\\jupnb\\lib\\site-packages (from ipython>=7.23.1->ipykernel->notebook>=6.0->jupyter_contrib_nbextensions) (0.18.1)\n",
      "Requirement already satisfied: pickleshare in c:\\programdata\\anaconda3\\envs\\jupnb\\lib\\site-packages (from ipython>=7.23.1->ipykernel->notebook>=6.0->jupyter_contrib_nbextensions) (0.7.5)\n",
      "Requirement already satisfied: prompt-toolkit!=3.0.37,<3.1.0,>=3.0.30 in c:\\programdata\\anaconda3\\envs\\jupnb\\lib\\site-packages (from ipython>=7.23.1->ipykernel->notebook>=6.0->jupyter_contrib_nbextensions) (3.0.36)\n",
      "Requirement already satisfied: stack-data in c:\\programdata\\anaconda3\\envs\\jupnb\\lib\\site-packages (from ipython>=7.23.1->ipykernel->notebook>=6.0->jupyter_contrib_nbextensions) (0.2.0)\n",
      "Requirement already satisfied: exceptiongroup in c:\\programdata\\anaconda3\\envs\\jupnb\\lib\\site-packages (from ipython>=7.23.1->ipykernel->notebook>=6.0->jupyter_contrib_nbextensions) (1.0.4)\n",
      "Requirement already satisfied: colorama in c:\\programdata\\anaconda3\\envs\\jupnb\\lib\\site-packages (from ipython>=7.23.1->ipykernel->notebook>=6.0->jupyter_contrib_nbextensions) (0.4.6)\n",
      "Requirement already satisfied: attrs>=22.2.0 in c:\\programdata\\anaconda3\\envs\\jupnb\\lib\\site-packages (from jsonschema>=2.6->nbformat>=5.7->nbconvert>=6.0->jupyter_contrib_nbextensions) (23.1.0)\n",
      "Requirement already satisfied: jsonschema-specifications>=2023.03.6 in c:\\programdata\\anaconda3\\envs\\jupnb\\lib\\site-packages (from jsonschema>=2.6->nbformat>=5.7->nbconvert>=6.0->jupyter_contrib_nbextensions) (2023.7.1)\n",
      "Requirement already satisfied: referencing>=0.28.4 in c:\\programdata\\anaconda3\\envs\\jupnb\\lib\\site-packages (from jsonschema>=2.6->nbformat>=5.7->nbconvert>=6.0->jupyter_contrib_nbextensions) (0.30.2)\n",
      "Requirement already satisfied: rpds-py>=0.7.1 in c:\\programdata\\anaconda3\\envs\\jupnb\\lib\\site-packages (from jsonschema>=2.6->nbformat>=5.7->nbconvert>=6.0->jupyter_contrib_nbextensions) (0.10.6)\n",
      "Requirement already satisfied: anyio>=3.1.0 in c:\\programdata\\anaconda3\\envs\\jupnb\\lib\\site-packages (from jupyter-server>=1.8->nbclassic>=0.4.7->notebook>=6.0->jupyter_contrib_nbextensions) (3.5.0)\n",
      "Requirement already satisfied: jupyter-events>=0.6.0 in c:\\programdata\\anaconda3\\envs\\jupnb\\lib\\site-packages (from jupyter-server>=1.8->nbclassic>=0.4.7->notebook>=6.0->jupyter_contrib_nbextensions) (0.8.0)\n",
      "Requirement already satisfied: jupyter-server-terminals in c:\\programdata\\anaconda3\\envs\\jupnb\\lib\\site-packages (from jupyter-server>=1.8->nbclassic>=0.4.7->notebook>=6.0->jupyter_contrib_nbextensions) (0.4.4)\n",
      "Requirement already satisfied: overrides in c:\\programdata\\anaconda3\\envs\\jupnb\\lib\\site-packages (from jupyter-server>=1.8->nbclassic>=0.4.7->notebook>=6.0->jupyter_contrib_nbextensions) (7.4.0)\n",
      "Requirement already satisfied: websocket-client in c:\\programdata\\anaconda3\\envs\\jupnb\\lib\\site-packages (from jupyter-server>=1.8->nbclassic>=0.4.7->notebook>=6.0->jupyter_contrib_nbextensions) (0.58.0)\n",
      "Requirement already satisfied: pyasn1<0.6.0,>=0.4.6 in c:\\programdata\\anaconda3\\envs\\jupnb\\lib\\site-packages (from pyasn1-modules>=0.2.1->google-auth<3,>=1.6.3->tensorboard<2.11,>=2.10->tensorflow) (0.5.1)\n",
      "Requirement already satisfied: oauthlib>=3.0.0 in c:\\programdata\\anaconda3\\envs\\jupnb\\lib\\site-packages (from requests-oauthlib>=0.7.0->google-auth-oauthlib<0.5,>=0.4.1->tensorboard<2.11,>=2.10->tensorflow) (3.2.2)\n",
      "Requirement already satisfied: cffi>=1.0.1 in c:\\programdata\\anaconda3\\envs\\jupnb\\lib\\site-packages (from argon2-cffi-bindings->argon2-cffi->notebook>=6.0->jupyter_contrib_nbextensions) (1.16.0)\n",
      "Requirement already satisfied: sniffio>=1.1 in c:\\programdata\\anaconda3\\envs\\jupnb\\lib\\site-packages (from anyio>=3.1.0->jupyter-server>=1.8->nbclassic>=0.4.7->notebook>=6.0->jupyter_contrib_nbextensions) (1.2.0)\n",
      "Requirement already satisfied: pycparser in c:\\programdata\\anaconda3\\envs\\jupnb\\lib\\site-packages (from cffi>=1.0.1->argon2-cffi-bindings->argon2-cffi->notebook>=6.0->jupyter_contrib_nbextensions) (2.21)\n",
      "Requirement already satisfied: parso<0.9.0,>=0.8.0 in c:\\programdata\\anaconda3\\envs\\jupnb\\lib\\site-packages (from jedi>=0.16->ipython>=7.23.1->ipykernel->notebook>=6.0->jupyter_contrib_nbextensions) (0.8.3)\n",
      "Requirement already satisfied: python-json-logger>=2.0.4 in c:\\programdata\\anaconda3\\envs\\jupnb\\lib\\site-packages (from jupyter-events>=0.6.0->jupyter-server>=1.8->nbclassic>=0.4.7->notebook>=6.0->jupyter_contrib_nbextensions) (2.0.7)\n",
      "Requirement already satisfied: rfc3339-validator in c:\\programdata\\anaconda3\\envs\\jupnb\\lib\\site-packages (from jupyter-events>=0.6.0->jupyter-server>=1.8->nbclassic>=0.4.7->notebook>=6.0->jupyter_contrib_nbextensions) (0.1.4)\n",
      "Requirement already satisfied: rfc3986-validator>=0.1.1 in c:\\programdata\\anaconda3\\envs\\jupnb\\lib\\site-packages (from jupyter-events>=0.6.0->jupyter-server>=1.8->nbclassic>=0.4.7->notebook>=6.0->jupyter_contrib_nbextensions) (0.1.1)\n",
      "Requirement already satisfied: wcwidth in c:\\programdata\\anaconda3\\envs\\jupnb\\lib\\site-packages (from prompt-toolkit!=3.0.37,<3.1.0,>=3.0.30->ipython>=7.23.1->ipykernel->notebook>=6.0->jupyter_contrib_nbextensions) (0.2.5)\n",
      "Requirement already satisfied: executing in c:\\programdata\\anaconda3\\envs\\jupnb\\lib\\site-packages (from stack-data->ipython>=7.23.1->ipykernel->notebook>=6.0->jupyter_contrib_nbextensions) (0.8.3)\n",
      "Requirement already satisfied: asttokens in c:\\programdata\\anaconda3\\envs\\jupnb\\lib\\site-packages (from stack-data->ipython>=7.23.1->ipykernel->notebook>=6.0->jupyter_contrib_nbextensions) (2.0.5)\n",
      "Requirement already satisfied: pure-eval in c:\\programdata\\anaconda3\\envs\\jupnb\\lib\\site-packages (from stack-data->ipython>=7.23.1->ipykernel->notebook>=6.0->jupyter_contrib_nbextensions) (0.2.2)\n",
      "Requirement already satisfied: fqdn in c:\\programdata\\anaconda3\\envs\\jupnb\\lib\\site-packages (from jsonschema[format-nongpl]>=4.18.0->jupyter-events>=0.6.0->jupyter-server>=1.8->nbclassic>=0.4.7->notebook>=6.0->jupyter_contrib_nbextensions) (1.5.1)\n",
      "Requirement already satisfied: isoduration in c:\\programdata\\anaconda3\\envs\\jupnb\\lib\\site-packages (from jsonschema[format-nongpl]>=4.18.0->jupyter-events>=0.6.0->jupyter-server>=1.8->nbclassic>=0.4.7->notebook>=6.0->jupyter_contrib_nbextensions) (20.11.0)\n",
      "Requirement already satisfied: jsonpointer>1.13 in c:\\programdata\\anaconda3\\envs\\jupnb\\lib\\site-packages (from jsonschema[format-nongpl]>=4.18.0->jupyter-events>=0.6.0->jupyter-server>=1.8->nbclassic>=0.4.7->notebook>=6.0->jupyter_contrib_nbextensions) (2.4)\n",
      "Requirement already satisfied: uri-template in c:\\programdata\\anaconda3\\envs\\jupnb\\lib\\site-packages (from jsonschema[format-nongpl]>=4.18.0->jupyter-events>=0.6.0->jupyter-server>=1.8->nbclassic>=0.4.7->notebook>=6.0->jupyter_contrib_nbextensions) (1.3.0)\n",
      "Requirement already satisfied: webcolors>=1.11 in c:\\programdata\\anaconda3\\envs\\jupnb\\lib\\site-packages (from jsonschema[format-nongpl]>=4.18.0->jupyter-events>=0.6.0->jupyter-server>=1.8->nbclassic>=0.4.7->notebook>=6.0->jupyter_contrib_nbextensions) (1.13)\n",
      "Requirement already satisfied: arrow>=0.15.0 in c:\\programdata\\anaconda3\\envs\\jupnb\\lib\\site-packages (from isoduration->jsonschema[format-nongpl]>=4.18.0->jupyter-events>=0.6.0->jupyter-server>=1.8->nbclassic>=0.4.7->notebook>=6.0->jupyter_contrib_nbextensions) (1.3.0)\n",
      "Requirement already satisfied: types-python-dateutil>=2.8.10 in c:\\programdata\\anaconda3\\envs\\jupnb\\lib\\site-packages (from arrow>=0.15.0->isoduration->jsonschema[format-nongpl]>=4.18.0->jupyter-events>=0.6.0->jupyter-server>=1.8->nbclassic>=0.4.7->notebook>=6.0->jupyter_contrib_nbextensions) (2.8.19.14)\n",
      "Note: you may need to restart the kernel to use updated packages.\n"
     ]
    }
   ],
   "source": [
    "pip install tensorflow opencv-python matplotlib jupyter_contrib_nbextensions\n"
   ]
  },
  {
   "cell_type": "markdown",
   "id": "ba5cb059",
   "metadata": {},
   "source": [
    "# 1.2 Import Dependencies"
   ]
  },
  {
   "cell_type": "code",
   "execution_count": 1,
   "id": "011e425e",
   "metadata": {},
   "outputs": [],
   "source": [
    "#import standard dependencies\n",
    "import cv2\n",
    "import os\n",
    "import random\n",
    "import numpy as np\n",
    "from matplotlib import pyplot as plt"
   ]
  },
  {
   "cell_type": "code",
   "execution_count": 2,
   "id": "e0a09c1a",
   "metadata": {},
   "outputs": [],
   "source": [
    "# import tensorflow dependencies - functional API\n",
    "from tensorflow.keras.models import Model\n",
    "from tensorflow.keras.layers import Conv2D, MaxPooling2D, Dense, Layer, Input, Flatten"
   ]
  },
  {
   "cell_type": "markdown",
   "id": "d4b52d7c",
   "metadata": {},
   "source": [
    "# 1.3 Set gpu growth"
   ]
  },
  {
   "cell_type": "code",
   "execution_count": 3,
   "id": "a3836729",
   "metadata": {},
   "outputs": [],
   "source": [
    "import tensorflow as tf\n",
    "import uuid"
   ]
  },
  {
   "cell_type": "code",
   "execution_count": 4,
   "id": "a471fd08",
   "metadata": {},
   "outputs": [],
   "source": [
    "#set GPU memory consumption in order to avoid OOM(out of memory)\n",
    "gpus = tf.config.experimental.list_physical_devices('GPU')"
   ]
  },
  {
   "cell_type": "code",
   "execution_count": 5,
   "id": "29a25ba1",
   "metadata": {},
   "outputs": [],
   "source": [
    "for gpu in gpus:\n",
    "    tf.config.experimental.set_memory_growth(gpu, True)"
   ]
  },
  {
   "cell_type": "code",
   "execution_count": 6,
   "id": "3c88a49d",
   "metadata": {},
   "outputs": [],
   "source": [
    "POS_PATH = os.path.join('data','positive')\n",
    "NEG_PATH = os.path.join('data', 'negative')\n",
    "ANC_PATH = os.path.join('data', 'anchor')"
   ]
  },
  {
   "cell_type": "code",
   "execution_count": 8,
   "id": "9326d4c2",
   "metadata": {},
   "outputs": [
    {
     "ename": "FileExistsError",
     "evalue": "[WinError 183] Cannot create a file when that file already exists: 'data\\\\positive'",
     "output_type": "error",
     "traceback": [
      "\u001b[1;31m---------------------------------------------------------------------------\u001b[0m",
      "\u001b[1;31mFileExistsError\u001b[0m                           Traceback (most recent call last)",
      "Cell \u001b[1;32mIn[8], line 1\u001b[0m\n\u001b[1;32m----> 1\u001b[0m \u001b[43mos\u001b[49m\u001b[38;5;241;43m.\u001b[39;49m\u001b[43mmakedirs\u001b[49m\u001b[43m(\u001b[49m\u001b[43mPOS_PATH\u001b[49m\u001b[43m)\u001b[49m\n\u001b[0;32m      2\u001b[0m os\u001b[38;5;241m.\u001b[39mmakedirs(NEG_PATH)\n\u001b[0;32m      3\u001b[0m os\u001b[38;5;241m.\u001b[39mmakedirs(ANC_PATH)\n",
      "File \u001b[1;32mC:\\ProgramData\\anaconda3\\envs\\jupnb\\lib\\os.py:225\u001b[0m, in \u001b[0;36mmakedirs\u001b[1;34m(name, mode, exist_ok)\u001b[0m\n\u001b[0;32m    223\u001b[0m         \u001b[38;5;28;01mreturn\u001b[39;00m\n\u001b[0;32m    224\u001b[0m \u001b[38;5;28;01mtry\u001b[39;00m:\n\u001b[1;32m--> 225\u001b[0m     \u001b[43mmkdir\u001b[49m\u001b[43m(\u001b[49m\u001b[43mname\u001b[49m\u001b[43m,\u001b[49m\u001b[43m \u001b[49m\u001b[43mmode\u001b[49m\u001b[43m)\u001b[49m\n\u001b[0;32m    226\u001b[0m \u001b[38;5;28;01mexcept\u001b[39;00m \u001b[38;5;167;01mOSError\u001b[39;00m:\n\u001b[0;32m    227\u001b[0m     \u001b[38;5;66;03m# Cannot rely on checking for EEXIST, since the operating system\u001b[39;00m\n\u001b[0;32m    228\u001b[0m     \u001b[38;5;66;03m# could give priority to other errors like EACCES or EROFS\u001b[39;00m\n\u001b[0;32m    229\u001b[0m     \u001b[38;5;28;01mif\u001b[39;00m \u001b[38;5;129;01mnot\u001b[39;00m exist_ok \u001b[38;5;129;01mor\u001b[39;00m \u001b[38;5;129;01mnot\u001b[39;00m path\u001b[38;5;241m.\u001b[39misdir(name):\n",
      "\u001b[1;31mFileExistsError\u001b[0m: [WinError 183] Cannot create a file when that file already exists: 'data\\\\positive'"
     ]
    }
   ],
   "source": [
    "os.makedirs(POS_PATH)\n",
    "os.makedirs(NEG_PATH)\n",
    "os.makedirs(ANC_PATH)"
   ]
  },
  {
   "cell_type": "markdown",
   "id": "6ed1f1b0",
   "metadata": {},
   "source": [
    "# 2. collecting positive and anchors"
   ]
  },
  {
   "cell_type": "markdown",
   "id": "ba0ca277",
   "metadata": {},
   "source": [
    "2.1"
   ]
  },
  {
   "cell_type": "code",
   "execution_count": null,
   "id": "a45d1ff3",
   "metadata": {},
   "outputs": [],
   "source": [
    "#Move LFW Images to the following repository data/negative\n",
    "for directory in os.listdir('lfw'):\n",
    "    for file in os.listdir(os.path.join('lfw', directory)):\n",
    "        EX_PATH = os.path.join('lfw',directory, file)\n",
    "        NEW_PATH = os.path.join(NEG_PATH, file)\n",
    "        os.replace(EX_PATH, NEW_PATH)"
   ]
  },
  {
   "cell_type": "markdown",
   "id": "a6b66675",
   "metadata": {},
   "source": [
    "# 2.2 collect Positive and Anchor Classes"
   ]
  },
  {
   "cell_type": "code",
   "execution_count": null,
   "id": "537ed8c9",
   "metadata": {},
   "outputs": [],
   "source": [
    "#Establish connection to the webcamera\n",
    "cap = cv2.VideoCapture(0)\n",
    "while cap.isOpened():\n",
    "    #cut down frame to 250x250pxl\n",
    "    ret , frame = cap.read()\n",
    "    frame = frame[50:50+250,150:150+250,:]\n",
    "    \n",
    "    #collect anchors\n",
    "    if cv2.waitKey(1) & 0XFF == ord('a'):\n",
    "        #create the unique file path\n",
    "        imgname = os.path.join(ANC_PATH, '{}.jpg'.format(uuid.uuid1()))\n",
    "        #write out anchor image\n",
    "        cv2.imwrite(imgname, frame)\n",
    "    \n",
    "    #collect positives\n",
    "    if cv2.waitKey(1) & 0XFF == ord('p'):\n",
    "        #create the unique file path\n",
    "        imgname = os.path.join(POS_PATH, '{}.jpg'.format(uuid.uuid1()))\n",
    "        #write out positive image\n",
    "        cv2.imwrite(imgname, frame)\n",
    "       \n",
    "    #Show image back to screen\n",
    "    cv2.imshow('Image Collection', frame)\n",
    "    \n",
    "    #Breaking gracefully\n",
    "    if cv2.waitKey(1) & 0XFF == ord('q'):\n",
    "        break\n",
    "        \n",
    "        \n",
    "        \n",
    "# Release the webcam\n",
    "cap.release()\n",
    "# Close the image show frame\n",
    "\n",
    "cv2.destroyAllWindows()\n",
    "        "
   ]
  },
  {
   "cell_type": "markdown",
   "id": "e5c78008",
   "metadata": {},
   "source": [
    "# 3. Load and Pre-process Images"
   ]
  },
  {
   "cell_type": "markdown",
   "id": "1f9deaaf",
   "metadata": {},
   "source": [
    "# 3.1 Get Images Directoriesa"
   ]
  },
  {
   "cell_type": "code",
   "execution_count": 7,
   "id": "74730cbe",
   "metadata": {},
   "outputs": [],
   "source": [
    "anchor = tf.data.Dataset.list_files(ANC_PATH+'\\*.jpg').take(300)\n",
    "positive =tf.data.Dataset.list_files(POS_PATH+'\\*.jpg').take(300)\n",
    "negative =tf.data.Dataset.list_files(NEG_PATH+'\\*.jpg').take(300)"
   ]
  },
  {
   "cell_type": "code",
   "execution_count": 8,
   "id": "3a4d2aea",
   "metadata": {},
   "outputs": [],
   "source": [
    "dir_test = anchor.as_numpy_iterator()"
   ]
  },
  {
   "cell_type": "code",
   "execution_count": 9,
   "id": "3357f876",
   "metadata": {},
   "outputs": [
    {
     "name": "stdout",
     "output_type": "stream",
     "text": [
      "b'data\\\\anchor\\\\8f296372-a8c3-11ee-ab8b-3003c8ac53b6.jpg'\n"
     ]
    }
   ],
   "source": [
    "print(dir_test.next())"
   ]
  },
  {
   "cell_type": "markdown",
   "id": "c92dc0f8",
   "metadata": {},
   "source": [
    "# 3.2 Preprocessing - Scale and Resize"
   ]
  },
  {
   "cell_type": "code",
   "execution_count": 10,
   "id": "46883b37",
   "metadata": {},
   "outputs": [],
   "source": [
    "def preprocess(file_path):\n",
    "    \n",
    "    #Read in image from file path\n",
    "    \n",
    "    byte_img = tf.io.read_file(file_path)\n",
    "    \n",
    "    # Load in the image\n",
    "    \n",
    "    img = tf.io.decode_jpeg(byte_img)\n",
    "    \n",
    "    #pre-processing steps - resizing the image to be 100x100x3\n",
    "    \n",
    "    img = tf.image.resize(img, (100, 100))\n",
    "    \n",
    "    #scale image to be between 0 and 1\n",
    "    \n",
    "    img = img/255.0\n",
    "    return img\n",
    "    "
   ]
  },
  {
   "cell_type": "code",
   "execution_count": 11,
   "id": "dd25096f",
   "metadata": {},
   "outputs": [],
   "source": [
    "img = preprocess('data\\\\anchor\\\\e238e34d-a8c3-11ee-a319-3003c8ac53b6.jpg')"
   ]
  },
  {
   "cell_type": "code",
   "execution_count": 12,
   "id": "bdd0f522",
   "metadata": {},
   "outputs": [
    {
     "data": {
      "text/plain": [
       "<matplotlib.image.AxesImage at 0x21d71a32800>"
      ]
     },
     "execution_count": 12,
     "metadata": {},
     "output_type": "execute_result"
    },
    {
     "data": {
      "image/png": "[encoded data removed]",
      "text/plain": [
       "<Figure size 640x480 with 1 Axes>"
      ]
     },
     "metadata": {},
     "output_type": "display_data"
    }
   ],
   "source": [
    "plt.imshow(img)"
   ]
  },
  {
   "cell_type": "code",
   "execution_count": 13,
   "id": "79e9775e",
   "metadata": {},
   "outputs": [
    {
     "data": {
      "text/plain": [
       "0.0022058825"
      ]
     },
     "execution_count": 13,
     "metadata": {},
     "output_type": "execute_result"
    }
   ],
   "source": [
    "img.numpy().min()"
   ]
  },
  {
   "cell_type": "markdown",
   "id": "1ded36b0",
   "metadata": {},
   "source": [
    "# 3.3 Create Labelled Dataset"
   ]
  },
  {
   "cell_type": "code",
   "execution_count": 14,
   "id": "aa5f01ce",
   "metadata": {},
   "outputs": [],
   "source": [
    "#(anchor, positive) => 1,1,1,1,1\n",
    "#(anchor, negative) => 0,0,0,0,0"
   ]
  },
  {
   "cell_type": "code",
   "execution_count": 15,
   "id": "55b27ea4",
   "metadata": {},
   "outputs": [],
   "source": [
    "positives = tf.data.Dataset.zip((anchor, positive, tf.data.Dataset.from_tensor_slices(tf.ones(len(anchor)))))\n",
    "negatives = tf.data.Dataset.zip((anchor, negative, tf.data.Dataset.from_tensor_slices(tf.zeros(len(anchor)))))\n",
    "data = positives.concatenate(negatives)"
   ]
  },
  {
   "cell_type": "code",
   "execution_count": 16,
   "id": "2428252a",
   "metadata": {},
   "outputs": [],
   "source": [
    "samples = data.as_numpy_iterator()"
   ]
  },
  {
   "cell_type": "code",
   "execution_count": 17,
   "id": "e43362a2",
   "metadata": {},
   "outputs": [],
   "source": [
    "Example = samples.next()"
   ]
  },
  {
   "cell_type": "code",
   "execution_count": 18,
   "id": "7dee5a67",
   "metadata": {},
   "outputs": [
    {
     "data": {
      "text/plain": [
       "(b'data\\\\anchor\\\\7e4a6d47-a8c3-11ee-8410-3003c8ac53b6.jpg',\n",
       " b'data\\\\positive\\\\494727aa-a8c4-11ee-b702-3003c8ac53b6.jpg',\n",
       " 1.0)"
      ]
     },
     "execution_count": 18,
     "metadata": {},
     "output_type": "execute_result"
    }
   ],
   "source": [
    "Example"
   ]
  },
  {
   "cell_type": "markdown",
   "id": "42070404",
   "metadata": {},
   "source": [
    "# 3.4 Build Train  and Test Partition"
   ]
  },
  {
   "cell_type": "code",
   "execution_count": 19,
   "id": "3e5aca9b",
   "metadata": {},
   "outputs": [],
   "source": [
    "def preprocess_twin(input_img, validation_img, label):\n",
    "    return(preprocess(input_img), preprocess(validation_img), label)"
   ]
  },
  {
   "cell_type": "code",
   "execution_count": 20,
   "id": "dd84c9b8",
   "metadata": {},
   "outputs": [],
   "source": [
    "res = preprocess_twin(*Example)"
   ]
  },
  {
   "cell_type": "code",
   "execution_count": 26,
   "id": "815803b4",
   "metadata": {},
   "outputs": [
    {
     "data": {
      "text/plain": [
       "<matplotlib.image.AxesImage at 0x21e45313b50>"
      ]
     },
     "execution_count": 26,
     "metadata": {},
     "output_type": "execute_result"
    },
    {
     "data": {
      "image/png": "[encoded data removed]",
      "text/plain": [
       "<Figure size 640x480 with 1 Axes>"
      ]
     },
     "metadata": {},
     "output_type": "display_data"
    }
   ],
   "source": [
    "plt.imshow(res[1])"
   ]
  },
  {
   "cell_type": "code",
   "execution_count": 21,
   "id": "b8441de4",
   "metadata": {},
   "outputs": [],
   "source": [
    "#Build datloader pipeline\n",
    "data = data.map(preprocess_twin)\n",
    "data = data.cache()\n",
    "data = data.shuffle(buffer_size=1024)"
   ]
  },
  {
   "cell_type": "code",
   "execution_count": 22,
   "id": "0102df2b",
   "metadata": {},
   "outputs": [],
   "source": [
    "# Training pArtition\n",
    "train_data = data.take(round(len(data)*.7))\n",
    "train_data = train_data.batch(16)\n",
    "train_data = train_data.prefetch(8)"
   ]
  },
  {
   "cell_type": "code",
   "execution_count": 23,
   "id": "acf81491",
   "metadata": {},
   "outputs": [],
   "source": [
    "#testing partition\n",
    "test_data = data.skip(round(len(data)*.7))\n",
    "test_data = test_data.take(round(len(data)*.3))\n",
    "test_data = test_data.batch(16)\n",
    "test_data = test_data.prefetch(8)"
   ]
  },
  {
   "cell_type": "markdown",
   "id": "a62c0f2a",
   "metadata": {},
   "source": [
    "# 4. Model Engineering"
   ]
  },
  {
   "cell_type": "markdown",
   "id": "e89f794c",
   "metadata": {},
   "source": [
    "# 4.1 Builld Embedding Layer"
   ]
  },
  {
   "cell_type": "code",
   "execution_count": 24,
   "id": "f5a8cb50",
   "metadata": {},
   "outputs": [],
   "source": [
    "def make_embedding():\n",
    "    inp = Input(shape=(100,100,3),   name = 'input_image')\n",
    "    #first block \n",
    "    c1 = Conv2D(64,(10,10), activation = 'relu')(inp)\n",
    "    m1 = MaxPooling2D(64,(2,2), padding = 'same')(c1)\n",
    "    \n",
    "    #second block\n",
    "    c2 = Conv2D(128,(7,7), activation = 'relu')(m1)\n",
    "    m2 = MaxPooling2D(64,(2,2), padding = 'same')(c2)\n",
    "    \n",
    "    #Third block\n",
    "    c3 = Conv2D(128,(4,4), activation ='relu')(m2)\n",
    "    m3 = MaxPooling2D(64, (2,2), padding ='same')(c3)\n",
    "    \n",
    "    #Final embedding block\n",
    "    c4 = Conv2D(256, (4,4), activation = 'relu')(m3)\n",
    "    f1 = Flatten()(c4)\n",
    "    d1 = Dense(4096, activation = 'sigmoid')(f1)\n",
    "    \n",
    "    \n",
    "     \n",
    "    \n",
    "    return Model(inputs=[inp], outputs=[d1], name ='embedding')\n",
    "    "
   ]
  },
  {
   "cell_type": "code",
   "execution_count": 25,
   "id": "230951b0",
   "metadata": {},
   "outputs": [],
   "source": [
    "embedding = make_embedding()"
   ]
  },
  {
   "cell_type": "code",
   "execution_count": 32,
   "id": "f546ad0a",
   "metadata": {},
   "outputs": [
    {
     "name": "stdout",
     "output_type": "stream",
     "text": [
      "Model: \"embedding\"\n",
      "_________________________________________________________________\n",
      " Layer (type)                Output Shape              Param #   \n",
      "=================================================================\n",
      " input_image (InputLayer)    [(None, 100, 100, 3)]     0         \n",
      "                                                                 \n",
      " conv2d (Conv2D)             (None, 91, 91, 64)        19264     \n",
      "                                                                 \n",
      " max_pooling2d (MaxPooling2D  (None, 46, 46, 64)       0         \n",
      " )                                                               \n",
      "                                                                 \n",
      " conv2d_1 (Conv2D)           (None, 40, 40, 128)       401536    \n",
      "                                                                 \n",
      " max_pooling2d_1 (MaxPooling  (None, 20, 20, 128)      0         \n",
      " 2D)                                                             \n",
      "                                                                 \n",
      " conv2d_2 (Conv2D)           (None, 17, 17, 128)       262272    \n",
      "                                                                 \n",
      " max_pooling2d_2 (MaxPooling  (None, 9, 9, 128)        0         \n",
      " 2D)                                                             \n",
      "                                                                 \n",
      " conv2d_3 (Conv2D)           (None, 6, 6, 256)         524544    \n",
      "                                                                 \n",
      " flatten (Flatten)           (None, 9216)              0         \n",
      "                                                                 \n",
      " dense (Dense)               (None, 4096)              37752832  \n",
      "                                                                 \n",
      "=================================================================\n",
      "Total params: 38,960,448\n",
      "Trainable params: 38,960,448\n",
      "Non-trainable params: 0\n",
      "_________________________________________________________________\n"
     ]
    }
   ],
   "source": [
    "embedding.summary()"
   ]
  },
  {
   "cell_type": "markdown",
   "id": "f83dfabb",
   "metadata": {},
   "source": [
    "# 4.2 Build Distance Layer"
   ]
  },
  {
   "cell_type": "code",
   "execution_count": 26,
   "id": "5e433d9b",
   "metadata": {},
   "outputs": [],
   "source": [
    "#Siamese L1 Distance class\n",
    "class L1Dist(Layer):\n",
    "    \n",
    "    #Init method - Inheritance\n",
    "    def __init__(self, **kwargs):\n",
    "        super().__init__()\n",
    "    #MAgic happens here - similarity calculation\n",
    "    def call(self, input_embedding, validation_embedding):\n",
    "        return tf.math.abs(input_embedding - validation_embedding)"
   ]
  },
  {
   "cell_type": "markdown",
   "id": "6296a040",
   "metadata": {},
   "source": [
    "# 4.3 Make Siamese Model"
   ]
  },
  {
   "cell_type": "code",
   "execution_count": 27,
   "id": "2741da55",
   "metadata": {},
   "outputs": [],
   "source": [
    "input_image = Input(name='input_img', shape=(100,100,3))\n",
    "validation_image = Input(name='validation_img', shape=(100,100,3))"
   ]
  },
  {
   "cell_type": "code",
   "execution_count": 28,
   "id": "d3c6e04d",
   "metadata": {},
   "outputs": [],
   "source": [
    "inp_embedding = embedding(input_image)\n",
    "val_embedding = embedding(validation_image)"
   ]
  },
  {
   "cell_type": "code",
   "execution_count": 29,
   "id": "255399ca",
   "metadata": {},
   "outputs": [],
   "source": [
    "siamese_layer = L1Dist()"
   ]
  },
  {
   "cell_type": "code",
   "execution_count": 30,
   "id": "92883e44",
   "metadata": {},
   "outputs": [],
   "source": [
    "distances = siamese_layer(inp_embedding, val_embedding)"
   ]
  },
  {
   "cell_type": "code",
   "execution_count": 32,
   "id": "97508747",
   "metadata": {},
   "outputs": [],
   "source": [
    "classifier = Dense(1, activation='sigmoid')(distances)"
   ]
  },
  {
   "cell_type": "code",
   "execution_count": 33,
   "id": "466ee5f5",
   "metadata": {},
   "outputs": [
    {
     "data": {
      "text/plain": [
       "<KerasTensor: shape=(None, 1) dtype=float32 (created by layer 'dense_2')>"
      ]
     },
     "execution_count": 33,
     "metadata": {},
     "output_type": "execute_result"
    }
   ],
   "source": [
    "\n",
    "classifier"
   ]
  },
  {
   "cell_type": "code",
   "execution_count": 34,
   "id": "fe40fce0",
   "metadata": {},
   "outputs": [],
   "source": [
    "siamese_network = Model(inputs=[input_image, validation_image], outputs=classifier, name='SiameseNetwork')"
   ]
  },
  {
   "cell_type": "code",
   "execution_count": 36,
   "id": "6b924024",
   "metadata": {},
   "outputs": [
    {
     "name": "stdout",
     "output_type": "stream",
     "text": [
      "Model: \"SiameseNetwork\"\n",
      "__________________________________________________________________________________________________\n",
      " Layer (type)                   Output Shape         Param #     Connected to                     \n",
      "==================================================================================================\n",
      " input_img (InputLayer)         [(None, 100, 100, 3  0           []                               \n",
      "                                )]                                                                \n",
      "                                                                                                  \n",
      " validation_img (InputLayer)    [(None, 100, 100, 3  0           []                               \n",
      "                                )]                                                                \n",
      "                                                                                                  \n",
      " embedding (Functional)         (None, 4096)         38960448    ['input_img[0][0]',              \n",
      "                                                                  'validation_img[0][0]']         \n",
      "                                                                                                  \n",
      " l1_dist (L1Dist)               (None, 4096)         0           ['embedding[0][0]',              \n",
      "                                                                  'embedding[1][0]']              \n",
      "                                                                                                  \n",
      " dense_2 (Dense)                (None, 1)            4097        ['l1_dist[0][0]']                \n",
      "                                                                                                  \n",
      "==================================================================================================\n",
      "Total params: 38,964,545\n",
      "Trainable params: 38,964,545\n",
      "Non-trainable params: 0\n",
      "__________________________________________________________________________________________________\n"
     ]
    }
   ],
   "source": [
    "siamese_network.summary()"
   ]
  },
  {
   "cell_type": "code",
   "execution_count": 37,
   "id": "ed1f7531",
   "metadata": {},
   "outputs": [],
   "source": [
    "def make_siamese_model(): \n",
    "    \n",
    "    # Anchor image input in the network\n",
    "    input_image = Input(name='input_img', shape=(100,100,3))\n",
    "    \n",
    "    # Validation image in the network \n",
    "    validation_image = Input(name='validation_img', shape=(100,100,3))\n",
    "    \n",
    "    # Combine siamese distance components\n",
    "    siamese_layer = L1Dist()\n",
    "    siamese_layer._name = 'distance'\n",
    "    distances = siamese_layer(embedding(input_image), embedding(validation_image))\n",
    "    \n",
    "    #classificaation layer\n",
    "    classifier = Dense(1, activation ='sigmoid')(distances)\n",
    "    \n",
    "    return Model(inputs=[input_image, validation_image], outputs = classifier, name = 'SiameseNetwork')\n",
    "    "
   ]
  },
  {
   "cell_type": "code",
   "execution_count": 38,
   "id": "16f7ad04",
   "metadata": {},
   "outputs": [],
   "source": [
    "siamese_model = make_siamese_model()"
   ]
  },
  {
   "cell_type": "code",
   "execution_count": 39,
   "id": "dbb288aa",
   "metadata": {},
   "outputs": [
    {
     "name": "stdout",
     "output_type": "stream",
     "text": [
      "Model: \"SiameseNetwork\"\n",
      "__________________________________________________________________________________________________\n",
      " Layer (type)                   Output Shape         Param #     Connected to                     \n",
      "==================================================================================================\n",
      " input_img (InputLayer)         [(None, 100, 100, 3  0           []                               \n",
      "                                )]                                                                \n",
      "                                                                                                  \n",
      " validation_img (InputLayer)    [(None, 100, 100, 3  0           []                               \n",
      "                                )]                                                                \n",
      "                                                                                                  \n",
      " embedding (Functional)         (None, 4096)         38960448    ['input_img[0][0]',              \n",
      "                                                                  'validation_img[0][0]']         \n",
      "                                                                                                  \n",
      " distance (L1Dist)              (None, 4096)         0           ['embedding[2][0]',              \n",
      "                                                                  'embedding[3][0]']              \n",
      "                                                                                                  \n",
      " dense_3 (Dense)                (None, 1)            4097        ['distance[0][0]']               \n",
      "                                                                                                  \n",
      "==================================================================================================\n",
      "Total params: 38,964,545\n",
      "Trainable params: 38,964,545\n",
      "Non-trainable params: 0\n",
      "__________________________________________________________________________________________________\n"
     ]
    }
   ],
   "source": [
    "siamese_model.summary()"
   ]
  },
  {
   "cell_type": "markdown",
   "id": "54383b4f",
   "metadata": {},
   "source": [
    "# 5. Training"
   ]
  },
  {
   "cell_type": "markdown",
   "id": "873bd696",
   "metadata": {},
   "source": [
    "# 5.1 Setup Loss and Optimizer"
   ]
  },
  {
   "cell_type": "code",
   "execution_count": 40,
   "id": "ca803e1a",
   "metadata": {},
   "outputs": [],
   "source": [
    "binary_cross_loss = tf.losses.BinaryCrossentropy()"
   ]
  },
  {
   "cell_type": "code",
   "execution_count": 41,
   "id": "778a1d6d",
   "metadata": {},
   "outputs": [],
   "source": [
    "opt = tf.keras.optimizers.Adam(1e-4) # 0.0001"
   ]
  },
  {
   "cell_type": "markdown",
   "id": "ac8dc87a",
   "metadata": {},
   "source": [
    "# 5.2 Establish Checkpoints"
   ]
  },
  {
   "cell_type": "code",
   "execution_count": 42,
   "id": "373d49b6",
   "metadata": {},
   "outputs": [],
   "source": [
    "checkpoint_dir = './training_checkpoints'\n",
    "checkpoint_prefix = os.path.join (checkpoint_dir,'ckpt')\n",
    "checkpoint = tf.train.Checkpoint(opt = opt,siamese_model=siamese_model )"
   ]
  },
  {
   "cell_type": "markdown",
   "id": "4ad8cdff",
   "metadata": {},
   "source": [
    "# 5.3 Build Train Step Function"
   ]
  },
  {
   "cell_type": "code",
   "execution_count": 43,
   "id": "b3732c13",
   "metadata": {},
   "outputs": [],
   "source": [
    "@tf.function\n",
    "def train_step(batch):\n",
    "    \n",
    "    # Record all of our operations \n",
    "    with tf.GradientTape() as tape:     \n",
    "        # Get anchor and positive/negative image\n",
    "        X = batch[:2]\n",
    "        # Get label\n",
    "        Y = batch[2]\n",
    "        \n",
    "        # Forward pass\n",
    "        yhat = siamese_model(X, training=True)\n",
    "        # Calculate loss\n",
    "        loss = binary_cross_loss(Y, yhat)\n",
    "    print(loss)\n",
    "        \n",
    "    # Calculate gradients\n",
    "    grad = tape.gradient(loss, siamese_model.trainable_variables)\n",
    "    \n",
    "    # Calculate updated weights and apply to siamese model\n",
    "    opt.apply_gradients(zip(grad, siamese_model.trainable_variables))\n",
    "    \n",
    "    # Return loss\n",
    "    return loss"
   ]
  },
  {
   "cell_type": "code",
   "execution_count": 44,
   "id": "62af6d52",
   "metadata": {},
   "outputs": [],
   "source": [
    "test_batch = train_data.as_numpy_iterator()"
   ]
  },
  {
   "cell_type": "code",
   "execution_count": 45,
   "id": "f02967aa",
   "metadata": {},
   "outputs": [],
   "source": [
    "batch_1 = test_batch.next()"
   ]
  },
  {
   "cell_type": "code",
   "execution_count": 46,
   "id": "3c61a5fb",
   "metadata": {},
   "outputs": [],
   "source": [
    "X = batch_1[:2]"
   ]
  },
  {
   "cell_type": "code",
   "execution_count": 47,
   "id": "90e0a566",
   "metadata": {},
   "outputs": [],
   "source": [
    "Y = batch_1[2]"
   ]
  },
  {
   "cell_type": "code",
   "execution_count": 48,
   "id": "f2bfbeeb",
   "metadata": {},
   "outputs": [
    {
     "data": {
      "text/plain": [
       "array([1., 1., 0., 1., 0., 0., 0., 1., 0., 0., 1., 1., 1., 0., 0., 1.],\n",
       "      dtype=float32)"
      ]
     },
     "execution_count": 48,
     "metadata": {},
     "output_type": "execute_result"
    }
   ],
   "source": [
    "Y"
   ]
  },
  {
   "cell_type": "markdown",
   "id": "d356085d",
   "metadata": {},
   "source": [
    "# 5.4 Build Training Loop"
   ]
  },
  {
   "cell_type": "code",
   "execution_count": 49,
   "id": "71171569",
   "metadata": {},
   "outputs": [],
   "source": [
    "def train(data, EPOCHS):\n",
    "    # Loop through epochs\n",
    "    for epoch in range(1, EPOCHS+1):\n",
    "        print('\\n Epoch {}/{}'.format(epoch, EPOCHS))\n",
    "        progbar = tf.keras.utils.Progbar(len(data))\n",
    "        \n",
    "        # Loop through each batch\n",
    "        for idx, batch in enumerate(data):\n",
    "            # Run train step here\n",
    "            train_step(batch)\n",
    "            progbar.update(idx+1)\n",
    "        \n",
    "        # Save checkpoints\n",
    "        if epoch % 10 == 0: \n",
    "            checkpoint.save(file_prefix=checkpoint_prefix)"
   ]
  },
  {
   "cell_type": "markdown",
   "id": "ff133b50",
   "metadata": {},
   "source": [
    "# 5.5 Train the model"
   ]
  },
  {
   "cell_type": "code",
   "execution_count": 57,
   "id": "6d14ed08",
   "metadata": {},
   "outputs": [],
   "source": [
    "EPOCHS = 50"
   ]
  },
  {
   "cell_type": "code",
   "execution_count": 58,
   "id": "cdbd92e3",
   "metadata": {},
   "outputs": [
    {
     "name": "stdout",
     "output_type": "stream",
     "text": [
      "\n",
      " Epoch 1/50\n",
      "Tensor(\"binary_crossentropy/weighted_loss/value:0\", shape=(), dtype=float32)\n",
      "Tensor(\"binary_crossentropy/weighted_loss/value:0\", shape=(), dtype=float32)\n",
      "26/27 [===========================>..] - ETA: 0sTensor(\"binary_crossentropy/weighted_loss/value:0\", shape=(), dtype=float32)\n",
      "27/27 [==============================] - 13s 400ms/step\n",
      "\n",
      " Epoch 2/50\n",
      "27/27 [==============================] - 10s 381ms/step\n",
      "\n",
      " Epoch 3/50\n",
      "27/27 [==============================] - 10s 375ms/step\n",
      "\n",
      " Epoch 4/50\n",
      "27/27 [==============================] - 10s 368ms/step\n",
      "\n",
      " Epoch 5/50\n",
      "27/27 [==============================] - 10s 367ms/step\n",
      "\n",
      " Epoch 6/50\n",
      "27/27 [==============================] - 10s 366ms/step\n",
      "\n",
      " Epoch 7/50\n",
      "27/27 [==============================] - 10s 368ms/step\n",
      "\n",
      " Epoch 8/50\n",
      "27/27 [==============================] - 10s 367ms/step\n",
      "\n",
      " Epoch 9/50\n",
      "27/27 [==============================] - 10s 368ms/step\n",
      "\n",
      " Epoch 10/50\n",
      "27/27 [==============================] - 10s 367ms/step\n",
      "\n",
      " Epoch 11/50\n",
      "27/27 [==============================] - 10s 369ms/step\n",
      "\n",
      " Epoch 12/50\n",
      "27/27 [==============================] - 10s 367ms/step\n",
      "\n",
      " Epoch 13/50\n",
      "27/27 [==============================] - 10s 369ms/step\n",
      "\n",
      " Epoch 14/50\n",
      "27/27 [==============================] - 10s 372ms/step\n",
      "\n",
      " Epoch 15/50\n",
      "27/27 [==============================] - 10s 369ms/step\n",
      "\n",
      " Epoch 16/50\n",
      "27/27 [==============================] - 10s 369ms/step\n",
      "\n",
      " Epoch 17/50\n",
      "27/27 [==============================] - 10s 365ms/step\n",
      "\n",
      " Epoch 18/50\n",
      "27/27 [==============================] - 10s 365ms/step\n",
      "\n",
      " Epoch 19/50\n",
      "27/27 [==============================] - 10s 365ms/step\n",
      "\n",
      " Epoch 20/50\n",
      "27/27 [==============================] - 10s 366ms/step\n",
      "\n",
      " Epoch 21/50\n",
      "27/27 [==============================] - 10s 366ms/step\n",
      "\n",
      " Epoch 22/50\n",
      "27/27 [==============================] - 10s 365ms/step\n",
      "\n",
      " Epoch 23/50\n",
      "27/27 [==============================] - 10s 365ms/step\n",
      "\n",
      " Epoch 24/50\n",
      "27/27 [==============================] - 10s 365ms/step\n",
      "\n",
      " Epoch 25/50\n",
      "27/27 [==============================] - 10s 365ms/step\n",
      "\n",
      " Epoch 26/50\n",
      "27/27 [==============================] - 10s 366ms/step\n",
      "\n",
      " Epoch 27/50\n",
      "27/27 [==============================] - 10s 365ms/step\n",
      "\n",
      " Epoch 28/50\n",
      "27/27 [==============================] - 10s 365ms/step\n",
      "\n",
      " Epoch 29/50\n",
      "27/27 [==============================] - 10s 366ms/step\n",
      "\n",
      " Epoch 30/50\n",
      "27/27 [==============================] - 10s 366ms/step\n",
      "\n",
      " Epoch 31/50\n",
      "27/27 [==============================] - 9s 365ms/step\n",
      "\n",
      " Epoch 32/50\n",
      "27/27 [==============================] - 10s 366ms/step\n",
      "\n",
      " Epoch 33/50\n",
      "27/27 [==============================] - 10s 366ms/step\n",
      "\n",
      " Epoch 34/50\n",
      "27/27 [==============================] - 10s 366ms/step\n",
      "\n",
      " Epoch 35/50\n",
      "27/27 [==============================] - 10s 366ms/step\n",
      "\n",
      " Epoch 36/50\n",
      "27/27 [==============================] - 10s 365ms/step\n",
      "\n",
      " Epoch 37/50\n",
      "27/27 [==============================] - 10s 365ms/step\n",
      "\n",
      " Epoch 38/50\n",
      "27/27 [==============================] - 10s 366ms/step\n",
      "\n",
      " Epoch 39/50\n",
      "27/27 [==============================] - 10s 366ms/step\n",
      "\n",
      " Epoch 40/50\n",
      "27/27 [==============================] - 10s 366ms/step\n",
      "\n",
      " Epoch 41/50\n",
      "27/27 [==============================] - 10s 365ms/step\n",
      "\n",
      " Epoch 42/50\n",
      "27/27 [==============================] - 10s 365ms/step\n",
      "\n",
      " Epoch 43/50\n",
      "27/27 [==============================] - 10s 366ms/step\n",
      "\n",
      " Epoch 44/50\n",
      "27/27 [==============================] - 10s 366ms/step\n",
      "\n",
      " Epoch 45/50\n",
      "27/27 [==============================] - 10s 366ms/step\n",
      "\n",
      " Epoch 46/50\n",
      "27/27 [==============================] - 10s 366ms/step\n",
      "\n",
      " Epoch 47/50\n",
      "27/27 [==============================] - 10s 366ms/step\n",
      "\n",
      " Epoch 48/50\n",
      "27/27 [==============================] - 10s 366ms/step\n",
      "\n",
      " Epoch 49/50\n",
      "27/27 [==============================] - 10s 366ms/step\n",
      "\n",
      " Epoch 50/50\n",
      "27/27 [==============================] - 10s 366ms/step\n"
     ]
    }
   ],
   "source": [
    "train(train_data, EPOCHS)"
   ]
  },
  {
   "cell_type": "markdown",
   "id": "96c825ac",
   "metadata": {},
   "source": [
    "# 6. Evaluate Model"
   ]
  },
  {
   "cell_type": "markdown",
   "id": "5412e076",
   "metadata": {},
   "source": [
    "# 6.1 Import Metrics"
   ]
  },
  {
   "cell_type": "code",
   "execution_count": 59,
   "id": "a92f975c",
   "metadata": {},
   "outputs": [],
   "source": [
    "#import metrics calculations\n",
    "from tensorflow.keras.metrics import Precision, Recall\n"
   ]
  },
  {
   "cell_type": "markdown",
   "id": "d4674d52",
   "metadata": {},
   "source": [
    "### 6.2 Make predictions"
   ]
  },
  {
   "cell_type": "code",
   "execution_count": 60,
   "id": "2cb755d2",
   "metadata": {},
   "outputs": [],
   "source": [
    "# get a batch of test data\n",
    "test_input, test_val, y_true = test_data.as_numpy_iterator().next()"
   ]
  },
  {
   "cell_type": "code",
   "execution_count": 61,
   "id": "32204994",
   "metadata": {},
   "outputs": [
    {
     "name": "stdout",
     "output_type": "stream",
     "text": [
      "1/1 [==============================] - 0s 29ms/step\n"
     ]
    },
    {
     "data": {
      "text/plain": [
       "array([[1.0000000e+00],\n",
       "       [1.0000000e+00],\n",
       "       [4.6289904e-07],\n",
       "       [1.4474145e-09],\n",
       "       [7.7314093e-09],\n",
       "       [1.5351252e-07],\n",
       "       [9.9905199e-01],\n",
       "       [5.5794185e-06],\n",
       "       [8.7827633e-14],\n",
       "       [9.9905938e-01],\n",
       "       [1.0000000e+00],\n",
       "       [9.9972409e-01],\n",
       "       [4.8748479e-12],\n",
       "       [1.0893340e-05],\n",
       "       [1.4318939e-10],\n",
       "       [1.8833921e-10]], dtype=float32)"
      ]
     },
     "execution_count": 61,
     "metadata": {},
     "output_type": "execute_result"
    }
   ],
   "source": [
    "#make predins\n",
    "y_hat = siamese_model.predict([test_input, test_val])\n",
    "y_hat "
   ]
  },
  {
   "cell_type": "code",
   "execution_count": 62,
   "id": "2de2c6b0",
   "metadata": {},
   "outputs": [
    {
     "data": {
      "text/plain": [
       "[1, 1, 0, 0, 0, 0, 1, 0, 0, 1, 1, 1, 0, 0, 0, 0]"
      ]
     },
     "execution_count": 62,
     "metadata": {},
     "output_type": "execute_result"
    }
   ],
   "source": [
    "#post processing the results\n",
    "[1 if prediction > 0.5 else 0 for prediction in y_hat]"
   ]
  },
  {
   "cell_type": "code",
   "execution_count": 63,
   "id": "d3e7756d",
   "metadata": {},
   "outputs": [
    {
     "data": {
      "text/plain": [
       "array([1., 1., 0., 0., 0., 0., 1., 0., 0., 1., 1., 1., 0., 0., 0., 0.],\n",
       "      dtype=float32)"
      ]
     },
     "execution_count": 63,
     "metadata": {},
     "output_type": "execute_result"
    }
   ],
   "source": [
    "y_true"
   ]
  },
  {
   "cell_type": "markdown",
   "id": "22be91f4",
   "metadata": {},
   "source": [
    "# 6.3 calculate metrics"
   ]
  },
  {
   "cell_type": "code",
   "execution_count": 64,
   "id": "f76ce4b3",
   "metadata": {},
   "outputs": [
    {
     "data": {
      "text/plain": [
       "1.0"
      ]
     },
     "execution_count": 64,
     "metadata": {},
     "output_type": "execute_result"
    }
   ],
   "source": [
    "# Creating a metric object\n",
    "m = Recall()\n",
    "\n",
    "#Calculating the recall value\n",
    "m.update_state(y_true, y_hat)\n",
    "\n",
    "#Result Recall Result\n",
    "m.result().numpy()\n"
   ]
  },
  {
   "cell_type": "code",
   "execution_count": 65,
   "id": "a1706c3a",
   "metadata": {},
   "outputs": [
    {
     "data": {
      "text/plain": [
       "1.0"
      ]
     },
     "execution_count": 65,
     "metadata": {},
     "output_type": "execute_result"
    }
   ],
   "source": [
    "# Creating a metric object\n",
    "m = Precision()\n",
    "\n",
    "#Calculating the recall value\n",
    "m.update_state(y_true, y_hat)\n",
    "\n",
    "#Result Recall Result\n",
    "m.result().numpy()"
   ]
  },
  {
   "cell_type": "markdown",
   "id": "990bad0d",
   "metadata": {},
   "source": [
    "### 6.4  Viz Results"
   ]
  },
  {
   "cell_type": "code",
   "execution_count": 66,
   "id": "f07c85ef",
   "metadata": {},
   "outputs": [
    {
     "data": {
      "image/png": "[encoded data removed]",
      "text/plain": [
       "<Figure size 1000x800 with 2 Axes>"
      ]
     },
     "metadata": {},
     "output_type": "display_data"
    }
   ],
   "source": [
    "#set plot size\n",
    "plt.figure( figsize =(10,8))\n",
    "\n",
    "#set first subplot\n",
    "plt.subplot(1,2,1)\n",
    "plt.imshow(test_input[2])\n",
    "\n",
    "#set second subplot\n",
    "plt.subplot(1,2,2)\n",
    "plt.imshow(test_val[2])\n",
    "\n",
    "#Renders cleanly\n",
    "plt.show()"
   ]
  },
  {
   "cell_type": "markdown",
   "id": "34a7cfd2",
   "metadata": {},
   "source": [
    "# 7. Save Model"
   ]
  },
  {
   "cell_type": "code",
   "execution_count": 118,
   "id": "81d0be25",
   "metadata": {},
   "outputs": [
    {
     "name": "stdout",
     "output_type": "stream",
     "text": [
      "WARNING:tensorflow:Compiled the loaded model, but the compiled metrics have yet to be built. `model.compile_metrics` will be empty until you train or evaluate the model.\n"
     ]
    }
   ],
   "source": [
    "# Save weights\n",
    "siamese_model.save('siamesemodel.h5')"
   ]
  },
  {
   "cell_type": "code",
   "execution_count": 67,
   "id": "805105f9",
   "metadata": {},
   "outputs": [
    {
     "data": {
      "text/plain": [
       "__main__.L1Dist"
      ]
     },
     "execution_count": 67,
     "metadata": {},
     "output_type": "execute_result"
    }
   ],
   "source": [
    "L1Dist"
   ]
  },
  {
   "cell_type": "code",
   "execution_count": 68,
   "id": "72896b08",
   "metadata": {},
   "outputs": [
    {
     "name": "stdout",
     "output_type": "stream",
     "text": [
      "WARNING:tensorflow:No training configuration found in the save file, so the model was *not* compiled. Compile it manually.\n"
     ]
    }
   ],
   "source": [
    "# Reload model \n",
    "model = tf.keras.models.load_model('siamesemodel.h5', \n",
    "                                   custom_objects={'L1Dist':L1Dist, 'BinaryCrossentropy':tf.losses.BinaryCrossentropy})"
   ]
  },
  {
   "cell_type": "code",
   "execution_count": 69,
   "id": "fd940c56",
   "metadata": {},
   "outputs": [
    {
     "name": "stdout",
     "output_type": "stream",
     "text": [
      "1/1 [==============================] - 0s 107ms/step\n"
     ]
    },
    {
     "data": {
      "text/plain": [
       "array([[9.99999404e-01],\n",
       "       [9.88364458e-01],\n",
       "       [7.66156518e-07],\n",
       "       [1.26942512e-10],\n",
       "       [1.34531865e-11],\n",
       "       [1.33632385e-08],\n",
       "       [9.98673201e-01],\n",
       "       [3.81382802e-06],\n",
       "       [1.00401736e-11],\n",
       "       [9.98481929e-01],\n",
       "       [9.99999762e-01],\n",
       "       [9.99565780e-01],\n",
       "       [2.17401930e-10],\n",
       "       [7.25593927e-05],\n",
       "       [1.12959510e-10],\n",
       "       [8.75987727e-10]], dtype=float32)"
      ]
     },
     "execution_count": 69,
     "metadata": {},
     "output_type": "execute_result"
    }
   ],
   "source": [
    "# Make predictions with reloaded model\n",
    "model.predict([test_input, test_val])"
   ]
  },
  {
   "cell_type": "code",
   "execution_count": 70,
   "id": "631fc12e",
   "metadata": {},
   "outputs": [
    {
     "name": "stdout",
     "output_type": "stream",
     "text": [
      "Model: \"SiameseNetwork\"\n",
      "__________________________________________________________________________________________________\n",
      " Layer (type)                   Output Shape         Param #     Connected to                     \n",
      "==================================================================================================\n",
      " input_img (InputLayer)         [(None, 100, 100, 3  0           []                               \n",
      "                                )]                                                                \n",
      "                                                                                                  \n",
      " validation_img (InputLayer)    [(None, 100, 100, 3  0           []                               \n",
      "                                )]                                                                \n",
      "                                                                                                  \n",
      " embedding (Functional)         (None, 4096)         38960448    ['input_img[0][0]',              \n",
      "                                                                  'validation_img[0][0]']         \n",
      "                                                                                                  \n",
      " l1_dist_2 (L1Dist)             (None, 4096)         0           ['embedding[0][0]',              \n",
      "                                                                  'embedding[1][0]']              \n",
      "                                                                                                  \n",
      " dense_2 (Dense)                (None, 1)            4097        ['l1_dist_2[0][0]']              \n",
      "                                                                                                  \n",
      "==================================================================================================\n",
      "Total params: 38,964,545\n",
      "Trainable params: 38,964,545\n",
      "Non-trainable params: 0\n",
      "__________________________________________________________________________________________________\n"
     ]
    }
   ],
   "source": [
    "# View model summary\n",
    "model.summary()"
   ]
  },
  {
   "cell_type": "markdown",
   "id": "c908020d",
   "metadata": {},
   "source": [
    "# 8. Real Time Test"
   ]
  },
  {
   "cell_type": "markdown",
   "id": "a0437170",
   "metadata": {},
   "source": [
    "## 8.1 Verification Function"
   ]
  },
  {
   "cell_type": "code",
   "execution_count": 71,
   "id": "61aadbee",
   "metadata": {},
   "outputs": [
    {
     "data": {
      "text/plain": [
       "['33e6382a-a8c4-11ee-9136-3003c8ac53b6.jpg',\n",
       " '33eb4ac5-a8c4-11ee-acb8-3003c8ac53b6.jpg',\n",
       " '34a76c7b-a8c4-11ee-b579-3003c8ac53b6.jpg',\n",
       " '3ad56345-a8c4-11ee-923d-3003c8ac53b6.jpg',\n",
       " '3af14c07-a8c4-11ee-8439-3003c8ac53b6.jpg',\n",
       " '3af670eb-a8c4-11ee-8e09-3003c8ac53b6.jpg',\n",
       " '3afd9c25-a8c4-11ee-9985-3003c8ac53b6.jpg',\n",
       " '3b05a1d6-a8c4-11ee-90ad-3003c8ac53b6.jpg',\n",
       " '3b0ab706-a8c4-11ee-a568-3003c8ac53b6.jpg',\n",
       " '3b0fd15e-a8c4-11ee-86bf-3003c8ac53b6.jpg',\n",
       " '3b171da2-a8c4-11ee-943d-3003c8ac53b6.jpg',\n",
       " '3b454fd5-a8c4-11ee-b0c8-3003c8ac53b6.jpg',\n",
       " '3b5d4624-a8c4-11ee-a5bd-3003c8ac53b6.jpg',\n",
       " '3b7aa650-a8c4-11ee-86ec-3003c8ac53b6.jpg',\n",
       " '3c017dd2-a8c4-11ee-aa0c-3003c8ac53b6.jpg',\n",
       " '3c15c841-a8c4-11ee-babc-3003c8ac53b6.jpg',\n",
       " '3c344cd2-a8c4-11ee-b876-3003c8ac53b6.jpg',\n",
       " '3c6218cb-a8c4-11ee-ba5b-3003c8ac53b6.jpg',\n",
       " '3c672c5a-a8c4-11ee-9fb0-3003c8ac53b6.jpg',\n",
       " '3c73a6c6-a8c4-11ee-b0ce-3003c8ac53b6.jpg',\n",
       " '3c809f39-a8c4-11ee-9ee4-3003c8ac53b6.jpg',\n",
       " '3c85b518-a8c4-11ee-a26b-3003c8ac53b6.jpg',\n",
       " '3c9222b4-a8c4-11ee-bb4e-3003c8ac53b6.jpg',\n",
       " '3ca942d1-a8c4-11ee-b6ae-3003c8ac53b6.jpg',\n",
       " '3cb0eeef-a8c4-11ee-a51d-3003c8ac53b6.jpg',\n",
       " '3d09ad36-a8c4-11ee-92a6-3003c8ac53b6.jpg',\n",
       " '3d25e994-a8c4-11ee-9087-3003c8ac53b6.jpg',\n",
       " '3d3f5c58-a8c4-11ee-8e68-3003c8ac53b6.jpg',\n",
       " '3d5ace64-a8c4-11ee-81b7-3003c8ac53b6.jpg',\n",
       " '3d74cc30-a8c4-11ee-a081-3003c8ac53b6.jpg',\n",
       " '3d86875a-a8c4-11ee-b1b1-3003c8ac53b6.jpg',\n",
       " '3d8ba086-a8c4-11ee-bd37-3003c8ac53b6.jpg',\n",
       " '3d97e1d8-a8c4-11ee-a052-3003c8ac53b6.jpg',\n",
       " '3ee2a1d2-a8c4-11ee-acfd-3003c8ac53b6.jpg',\n",
       " '3ef4bfd6-a8c4-11ee-8dde-3003c8ac53b6.jpg',\n",
       " '3ef9e05d-a8c4-11ee-95ba-3003c8ac53b6.jpg',\n",
       " '3f134298-a8c4-11ee-afb3-3003c8ac53b6.jpg',\n",
       " '3f185a4a-a8c4-11ee-b591-3003c8ac53b6.jpg',\n",
       " '3f1d71fc-a8c4-11ee-b58f-3003c8ac53b6.jpg',\n",
       " '3f229143-a8c4-11ee-9c4a-3003c8ac53b6.jpg',\n",
       " '3f2a1f5b-a8c4-11ee-bbe1-3003c8ac53b6.jpg',\n",
       " '3f5a86a6-a8c4-11ee-930e-3003c8ac53b6.jpg',\n",
       " '3f5f90eb-a8c4-11ee-9839-3003c8ac53b6.jpg',\n",
       " '3f64aafc-a8c4-11ee-8045-3003c8ac53b6.jpg',\n",
       " '3f69c505-a8c4-11ee-90ca-3003c8ac53b6.jpg',\n",
       " '3f8d59e4-a8c4-11ee-9232-3003c8ac53b6.jpg',\n",
       " '3f927b78-a8c4-11ee-b4ad-3003c8ac53b6.jpg',\n",
       " '3f9c997b-a8c4-11ee-9f82-3003c8ac53b6.jpg',\n",
       " '3fa1b018-a8c4-11ee-8110-3003c8ac53b6.jpg',\n",
       " '4a054930-a8c4-11ee-94af-3003c8ac53b6.jpg']"
      ]
     },
     "execution_count": 71,
     "metadata": {},
     "output_type": "execute_result"
    }
   ],
   "source": [
    "os.listdir(os.path.join('application_data','verification_images'))"
   ]
  },
  {
   "cell_type": "code",
   "execution_count": 72,
   "id": "ad58c971",
   "metadata": {},
   "outputs": [
    {
     "name": "stdout",
     "output_type": "stream",
     "text": [
      "application_data\\verification_images\\33e6382a-a8c4-11ee-9136-3003c8ac53b6.jpg\n",
      "application_data\\verification_images\\33eb4ac5-a8c4-11ee-acb8-3003c8ac53b6.jpg\n",
      "application_data\\verification_images\\34a76c7b-a8c4-11ee-b579-3003c8ac53b6.jpg\n",
      "application_data\\verification_images\\3ad56345-a8c4-11ee-923d-3003c8ac53b6.jpg\n",
      "application_data\\verification_images\\3af14c07-a8c4-11ee-8439-3003c8ac53b6.jpg\n",
      "application_data\\verification_images\\3af670eb-a8c4-11ee-8e09-3003c8ac53b6.jpg\n",
      "application_data\\verification_images\\3afd9c25-a8c4-11ee-9985-3003c8ac53b6.jpg\n",
      "application_data\\verification_images\\3b05a1d6-a8c4-11ee-90ad-3003c8ac53b6.jpg\n",
      "application_data\\verification_images\\3b0ab706-a8c4-11ee-a568-3003c8ac53b6.jpg\n",
      "application_data\\verification_images\\3b0fd15e-a8c4-11ee-86bf-3003c8ac53b6.jpg\n",
      "application_data\\verification_images\\3b171da2-a8c4-11ee-943d-3003c8ac53b6.jpg\n",
      "application_data\\verification_images\\3b454fd5-a8c4-11ee-b0c8-3003c8ac53b6.jpg\n",
      "application_data\\verification_images\\3b5d4624-a8c4-11ee-a5bd-3003c8ac53b6.jpg\n",
      "application_data\\verification_images\\3b7aa650-a8c4-11ee-86ec-3003c8ac53b6.jpg\n",
      "application_data\\verification_images\\3c017dd2-a8c4-11ee-aa0c-3003c8ac53b6.jpg\n",
      "application_data\\verification_images\\3c15c841-a8c4-11ee-babc-3003c8ac53b6.jpg\n",
      "application_data\\verification_images\\3c344cd2-a8c4-11ee-b876-3003c8ac53b6.jpg\n",
      "application_data\\verification_images\\3c6218cb-a8c4-11ee-ba5b-3003c8ac53b6.jpg\n",
      "application_data\\verification_images\\3c672c5a-a8c4-11ee-9fb0-3003c8ac53b6.jpg\n",
      "application_data\\verification_images\\3c73a6c6-a8c4-11ee-b0ce-3003c8ac53b6.jpg\n",
      "application_data\\verification_images\\3c809f39-a8c4-11ee-9ee4-3003c8ac53b6.jpg\n",
      "application_data\\verification_images\\3c85b518-a8c4-11ee-a26b-3003c8ac53b6.jpg\n",
      "application_data\\verification_images\\3c9222b4-a8c4-11ee-bb4e-3003c8ac53b6.jpg\n",
      "application_data\\verification_images\\3ca942d1-a8c4-11ee-b6ae-3003c8ac53b6.jpg\n",
      "application_data\\verification_images\\3cb0eeef-a8c4-11ee-a51d-3003c8ac53b6.jpg\n",
      "application_data\\verification_images\\3d09ad36-a8c4-11ee-92a6-3003c8ac53b6.jpg\n",
      "application_data\\verification_images\\3d25e994-a8c4-11ee-9087-3003c8ac53b6.jpg\n",
      "application_data\\verification_images\\3d3f5c58-a8c4-11ee-8e68-3003c8ac53b6.jpg\n",
      "application_data\\verification_images\\3d5ace64-a8c4-11ee-81b7-3003c8ac53b6.jpg\n",
      "application_data\\verification_images\\3d74cc30-a8c4-11ee-a081-3003c8ac53b6.jpg\n",
      "application_data\\verification_images\\3d86875a-a8c4-11ee-b1b1-3003c8ac53b6.jpg\n",
      "application_data\\verification_images\\3d8ba086-a8c4-11ee-bd37-3003c8ac53b6.jpg\n",
      "application_data\\verification_images\\3d97e1d8-a8c4-11ee-a052-3003c8ac53b6.jpg\n",
      "application_data\\verification_images\\3ee2a1d2-a8c4-11ee-acfd-3003c8ac53b6.jpg\n",
      "application_data\\verification_images\\3ef4bfd6-a8c4-11ee-8dde-3003c8ac53b6.jpg\n",
      "application_data\\verification_images\\3ef9e05d-a8c4-11ee-95ba-3003c8ac53b6.jpg\n",
      "application_data\\verification_images\\3f134298-a8c4-11ee-afb3-3003c8ac53b6.jpg\n",
      "application_data\\verification_images\\3f185a4a-a8c4-11ee-b591-3003c8ac53b6.jpg\n",
      "application_data\\verification_images\\3f1d71fc-a8c4-11ee-b58f-3003c8ac53b6.jpg\n",
      "application_data\\verification_images\\3f229143-a8c4-11ee-9c4a-3003c8ac53b6.jpg\n",
      "application_data\\verification_images\\3f2a1f5b-a8c4-11ee-bbe1-3003c8ac53b6.jpg\n",
      "application_data\\verification_images\\3f5a86a6-a8c4-11ee-930e-3003c8ac53b6.jpg\n",
      "application_data\\verification_images\\3f5f90eb-a8c4-11ee-9839-3003c8ac53b6.jpg\n",
      "application_data\\verification_images\\3f64aafc-a8c4-11ee-8045-3003c8ac53b6.jpg\n",
      "application_data\\verification_images\\3f69c505-a8c4-11ee-90ca-3003c8ac53b6.jpg\n",
      "application_data\\verification_images\\3f8d59e4-a8c4-11ee-9232-3003c8ac53b6.jpg\n",
      "application_data\\verification_images\\3f927b78-a8c4-11ee-b4ad-3003c8ac53b6.jpg\n",
      "application_data\\verification_images\\3f9c997b-a8c4-11ee-9f82-3003c8ac53b6.jpg\n",
      "application_data\\verification_images\\3fa1b018-a8c4-11ee-8110-3003c8ac53b6.jpg\n",
      "application_data\\verification_images\\4a054930-a8c4-11ee-94af-3003c8ac53b6.jpg\n"
     ]
    }
   ],
   "source": [
    "for image in os.listdir(os.path.join('application_data', 'verification_images')):\n",
    "    validation_img = os.path.join('application_data', 'verification_images', image)\n",
    "    print(validation_img)"
   ]
  },
  {
   "cell_type": "code",
   "execution_count": 73,
   "id": "3a03a8bb",
   "metadata": {},
   "outputs": [],
   "source": [
    "def verify(model, detection_threshold, verification_threshold):\n",
    "    # Build results array\n",
    "    results = []\n",
    "    for image in os.listdir(os.path.join('application_data', 'verification_images')):\n",
    "        input_img = preprocess(os.path.join('application_data', 'input_image', 'input_image.jpg'))\n",
    "        validation_img = preprocess(os.path.join('application_data', 'verification_images', image))\n",
    "        \n",
    "        # Make Predictions \n",
    "        result = model.predict(list(np.expand_dims([input_img, validation_img], axis=1)))\n",
    "        results.append(result)\n",
    "    \n",
    "    # Detection Threshold: Metric above which a prediciton is considered positive \n",
    "    detection = np.sum(np.array(results) > detection_threshold)\n",
    "    \n",
    "    # Verification Threshold: Proportion of positive predictions / total positive samples \n",
    "    verification = detection / len(os.listdir(os.path.join('application_data', 'verification_images'))) \n",
    "    verified = verification > verification_threshold\n",
    "    \n",
    "    return results, verified"
   ]
  },
  {
   "cell_type": "markdown",
   "id": "49ccb975",
   "metadata": {},
   "source": [
    "## 8.2 OpenCV Real Time Verification"
   ]
  },
  {
   "cell_type": "code",
   "execution_count": 91,
   "id": "97c0ba2c",
   "metadata": {},
   "outputs": [
    {
     "name": "stdout",
     "output_type": "stream",
     "text": [
      "1/1 [==============================] - 0s 16ms/step\n",
      "1/1 [==============================] - 0s 16ms/step\n",
      "1/1 [==============================] - 0s 16ms/step\n",
      "1/1 [==============================] - 0s 15ms/step\n",
      "1/1 [==============================] - 0s 14ms/step\n",
      "1/1 [==============================] - 0s 15ms/step\n",
      "1/1 [==============================] - 0s 16ms/step\n",
      "1/1 [==============================] - 0s 15ms/step\n",
      "1/1 [==============================] - 0s 17ms/step\n",
      "1/1 [==============================] - 0s 17ms/step\n",
      "1/1 [==============================] - 0s 17ms/step\n",
      "1/1 [==============================] - 0s 17ms/step\n",
      "1/1 [==============================] - 0s 18ms/step\n",
      "1/1 [==============================] - 0s 17ms/step\n",
      "1/1 [==============================] - 0s 15ms/step\n",
      "1/1 [==============================] - 0s 15ms/step\n",
      "1/1 [==============================] - 0s 17ms/step\n",
      "1/1 [==============================] - 0s 19ms/step\n",
      "1/1 [==============================] - 0s 16ms/step\n",
      "1/1 [==============================] - 0s 15ms/step\n",
      "1/1 [==============================] - 0s 17ms/step\n",
      "1/1 [==============================] - 0s 15ms/step\n",
      "1/1 [==============================] - 0s 16ms/step\n",
      "1/1 [==============================] - 0s 16ms/step\n",
      "1/1 [==============================] - 0s 19ms/step\n",
      "1/1 [==============================] - 0s 21ms/step\n",
      "1/1 [==============================] - 0s 16ms/step\n",
      "1/1 [==============================] - 0s 15ms/step\n",
      "1/1 [==============================] - 0s 26ms/step\n",
      "1/1 [==============================] - 0s 21ms/step\n",
      "1/1 [==============================] - 0s 29ms/step\n",
      "1/1 [==============================] - 0s 16ms/step\n",
      "1/1 [==============================] - 0s 22ms/step\n",
      "1/1 [==============================] - 0s 21ms/step\n",
      "1/1 [==============================] - 0s 17ms/step\n",
      "1/1 [==============================] - 0s 15ms/step\n",
      "1/1 [==============================] - 0s 17ms/step\n",
      "1/1 [==============================] - 0s 17ms/step\n",
      "1/1 [==============================] - 0s 17ms/step\n",
      "1/1 [==============================] - 0s 17ms/step\n",
      "1/1 [==============================] - 0s 20ms/step\n",
      "1/1 [==============================] - 0s 17ms/step\n",
      "1/1 [==============================] - 0s 24ms/step\n",
      "1/1 [==============================] - 0s 16ms/step\n",
      "1/1 [==============================] - 0s 16ms/step\n",
      "1/1 [==============================] - 0s 16ms/step\n",
      "1/1 [==============================] - 0s 17ms/step\n",
      "1/1 [==============================] - 0s 19ms/step\n",
      "1/1 [==============================] - 0s 17ms/step\n",
      "1/1 [==============================] - 0s 17ms/step\n",
      "True\n",
      "1/1 [==============================] - 0s 22ms/step\n",
      "1/1 [==============================] - 0s 16ms/step\n",
      "1/1 [==============================] - 0s 16ms/step\n",
      "1/1 [==============================] - 0s 16ms/step\n",
      "1/1 [==============================] - 0s 10ms/step\n",
      "1/1 [==============================] - 0s 15ms/step\n",
      "1/1 [==============================] - 0s 17ms/step\n",
      "1/1 [==============================] - 0s 16ms/step\n",
      "1/1 [==============================] - 0s 16ms/step\n",
      "1/1 [==============================] - 0s 17ms/step\n",
      "1/1 [==============================] - 0s 19ms/step\n",
      "1/1 [==============================] - 0s 17ms/step\n",
      "1/1 [==============================] - 0s 17ms/step\n",
      "1/1 [==============================] - 0s 16ms/step\n",
      "1/1 [==============================] - 0s 22ms/step\n",
      "1/1 [==============================] - 0s 23ms/step\n",
      "1/1 [==============================] - 0s 17ms/step\n",
      "1/1 [==============================] - 0s 34ms/step\n",
      "1/1 [==============================] - 0s 20ms/step\n",
      "1/1 [==============================] - 0s 27ms/step\n",
      "1/1 [==============================] - 0s 29ms/step\n",
      "1/1 [==============================] - 0s 28ms/step\n",
      "1/1 [==============================] - 0s 16ms/step\n",
      "1/1 [==============================] - 0s 16ms/step\n",
      "1/1 [==============================] - 0s 29ms/step\n",
      "1/1 [==============================] - 0s 18ms/step\n",
      "1/1 [==============================] - 0s 18ms/step\n",
      "1/1 [==============================] - 0s 17ms/step\n",
      "1/1 [==============================] - 0s 15ms/step\n",
      "1/1 [==============================] - 0s 4ms/step\n",
      "1/1 [==============================] - 0s 19ms/step\n",
      "1/1 [==============================] - 0s 5ms/step\n",
      "1/1 [==============================] - 0s 16ms/step\n",
      "1/1 [==============================] - 0s 17ms/step\n",
      "1/1 [==============================] - 0s 17ms/step\n",
      "1/1 [==============================] - 0s 16ms/step\n",
      "1/1 [==============================] - 0s 16ms/step\n",
      "1/1 [==============================] - 0s 17ms/step\n",
      "1/1 [==============================] - 0s 18ms/step\n",
      "1/1 [==============================] - 0s 14ms/step\n",
      "1/1 [==============================] - 0s 25ms/step\n",
      "1/1 [==============================] - 0s 19ms/step\n",
      "1/1 [==============================] - 0s 30ms/step\n",
      "1/1 [==============================] - 0s 16ms/step\n",
      "1/1 [==============================] - 0s 16ms/step\n",
      "1/1 [==============================] - 0s 13ms/step\n",
      "1/1 [==============================] - 0s 15ms/step\n",
      "1/1 [==============================] - 0s 19ms/step\n",
      "1/1 [==============================] - 0s 16ms/step\n",
      "1/1 [==============================] - 0s 13ms/step\n",
      "True\n",
      "1/1 [==============================] - 0s 20ms/step\n",
      "1/1 [==============================] - 0s 15ms/step\n",
      "1/1 [==============================] - 0s 17ms/step\n",
      "1/1 [==============================] - 0s 14ms/step\n",
      "1/1 [==============================] - 0s 16ms/step\n",
      "1/1 [==============================] - 0s 17ms/step\n",
      "1/1 [==============================] - 0s 17ms/step\n",
      "1/1 [==============================] - 0s 6ms/step\n",
      "1/1 [==============================] - 0s 16ms/step\n",
      "1/1 [==============================] - 0s 16ms/step\n",
      "1/1 [==============================] - 0s 17ms/step\n",
      "1/1 [==============================] - 0s 11ms/step\n",
      "1/1 [==============================] - 0s 7ms/step\n",
      "1/1 [==============================] - 0s 16ms/step\n",
      "1/1 [==============================] - 0s 16ms/step\n",
      "1/1 [==============================] - 0s 15ms/step\n",
      "1/1 [==============================] - 0s 16ms/step\n",
      "1/1 [==============================] - 0s 16ms/step\n",
      "1/1 [==============================] - 0s 18ms/step\n",
      "1/1 [==============================] - 0s 16ms/step\n",
      "1/1 [==============================] - 0s 16ms/step\n",
      "1/1 [==============================] - 0s 3ms/step\n",
      "1/1 [==============================] - 0s 17ms/step\n",
      "1/1 [==============================] - 0s 16ms/step\n",
      "1/1 [==============================] - 0s 16ms/step\n",
      "1/1 [==============================] - 0s 15ms/step\n",
      "1/1 [==============================] - 0s 16ms/step\n",
      "1/1 [==============================] - 0s 22ms/step\n",
      "1/1 [==============================] - 0s 22ms/step\n",
      "1/1 [==============================] - 0s 17ms/step\n",
      "1/1 [==============================] - 0s 16ms/step\n",
      "1/1 [==============================] - 0s 18ms/step\n",
      "1/1 [==============================] - 0s 19ms/step\n",
      "1/1 [==============================] - 0s 20ms/step\n",
      "1/1 [==============================] - 0s 17ms/step\n",
      "1/1 [==============================] - 0s 16ms/step\n",
      "1/1 [==============================] - 0s 22ms/step\n",
      "1/1 [==============================] - 0s 16ms/step\n",
      "1/1 [==============================] - 0s 23ms/step\n",
      "1/1 [==============================] - 0s 20ms/step\n",
      "1/1 [==============================] - 0s 17ms/step\n",
      "1/1 [==============================] - 0s 18ms/step\n",
      "1/1 [==============================] - 0s 26ms/step\n",
      "1/1 [==============================] - 0s 20ms/step\n",
      "1/1 [==============================] - 0s 26ms/step\n",
      "1/1 [==============================] - 0s 18ms/step\n",
      "1/1 [==============================] - 0s 18ms/step\n",
      "1/1 [==============================] - 0s 19ms/step\n",
      "1/1 [==============================] - 0s 16ms/step\n",
      "1/1 [==============================] - 0s 17ms/step\n",
      "True\n",
      "1/1 [==============================] - 0s 14ms/step\n",
      "1/1 [==============================] - 0s 11ms/step\n",
      "1/1 [==============================] - 0s 15ms/step\n",
      "1/1 [==============================] - 0s 16ms/step\n",
      "1/1 [==============================] - 0s 16ms/step\n",
      "1/1 [==============================] - 0s 17ms/step\n",
      "1/1 [==============================] - 0s 14ms/step\n"
     ]
    },
    {
     "name": "stdout",
     "output_type": "stream",
     "text": [
      "1/1 [==============================] - 0s 17ms/step\n",
      "1/1 [==============================] - 0s 12ms/step\n",
      "1/1 [==============================] - 0s 15ms/step\n",
      "1/1 [==============================] - 0s 16ms/step\n",
      "1/1 [==============================] - 0s 16ms/step\n",
      "1/1 [==============================] - 0s 16ms/step\n",
      "1/1 [==============================] - 0s 18ms/step\n",
      "1/1 [==============================] - 0s 17ms/step\n",
      "1/1 [==============================] - 0s 16ms/step\n",
      "1/1 [==============================] - 0s 16ms/step\n",
      "1/1 [==============================] - 0s 17ms/step\n",
      "1/1 [==============================] - 0s 17ms/step\n",
      "1/1 [==============================] - 0s 18ms/step\n",
      "1/1 [==============================] - 0s 22ms/step\n",
      "1/1 [==============================] - 0s 22ms/step\n",
      "1/1 [==============================] - 0s 17ms/step\n",
      "1/1 [==============================] - 0s 16ms/step\n",
      "1/1 [==============================] - 0s 16ms/step\n",
      "1/1 [==============================] - 0s 16ms/step\n",
      "1/1 [==============================] - 0s 16ms/step\n",
      "1/1 [==============================] - 0s 16ms/step\n",
      "1/1 [==============================] - 0s 16ms/step\n",
      "1/1 [==============================] - 0s 17ms/step\n",
      "1/1 [==============================] - 0s 16ms/step\n",
      "1/1 [==============================] - 0s 16ms/step\n",
      "1/1 [==============================] - 0s 16ms/step\n",
      "1/1 [==============================] - 0s 15ms/step\n",
      "1/1 [==============================] - 0s 16ms/step\n",
      "1/1 [==============================] - 0s 9ms/step\n",
      "1/1 [==============================] - 0s 16ms/step\n",
      "1/1 [==============================] - 0s 17ms/step\n",
      "1/1 [==============================] - 0s 15ms/step\n",
      "1/1 [==============================] - 0s 17ms/step\n",
      "1/1 [==============================] - 0s 16ms/step\n",
      "1/1 [==============================] - 0s 17ms/step\n",
      "1/1 [==============================] - 0s 16ms/step\n",
      "1/1 [==============================] - 0s 17ms/step\n",
      "1/1 [==============================] - 0s 15ms/step\n",
      "1/1 [==============================] - 0s 10ms/step\n",
      "1/1 [==============================] - 0s 16ms/step\n",
      "1/1 [==============================] - 0s 16ms/step\n",
      "1/1 [==============================] - 0s 16ms/step\n",
      "1/1 [==============================] - 0s 16ms/step\n",
      "False\n",
      "1/1 [==============================] - 0s 17ms/step\n",
      "1/1 [==============================] - 0s 18ms/step\n",
      "1/1 [==============================] - 0s 15ms/step\n",
      "1/1 [==============================] - 0s 16ms/step\n",
      "1/1 [==============================] - 0s 10ms/step\n",
      "1/1 [==============================] - 0s 10ms/step\n",
      "1/1 [==============================] - 0s 16ms/step\n",
      "1/1 [==============================] - 0s 15ms/step\n",
      "1/1 [==============================] - 0s 16ms/step\n",
      "1/1 [==============================] - 0s 12ms/step\n",
      "1/1 [==============================] - 0s 15ms/step\n",
      "1/1 [==============================] - 0s 16ms/step\n",
      "1/1 [==============================] - 0s 13ms/step\n",
      "1/1 [==============================] - 0s 12ms/step\n",
      "1/1 [==============================] - 0s 16ms/step\n",
      "1/1 [==============================] - 0s 16ms/step\n",
      "1/1 [==============================] - 0s 16ms/step\n",
      "1/1 [==============================] - 0s 14ms/step\n",
      "1/1 [==============================] - 0s 22ms/step\n",
      "1/1 [==============================] - 0s 16ms/step\n",
      "1/1 [==============================] - 0s 17ms/step\n",
      "1/1 [==============================] - 0s 17ms/step\n",
      "1/1 [==============================] - 0s 17ms/step\n",
      "1/1 [==============================] - 0s 17ms/step\n",
      "1/1 [==============================] - 0s 17ms/step\n",
      "1/1 [==============================] - 0s 16ms/step\n",
      "1/1 [==============================] - 0s 16ms/step\n",
      "1/1 [==============================] - 0s 15ms/step\n",
      "1/1 [==============================] - 0s 16ms/step\n",
      "1/1 [==============================] - 0s 17ms/step\n",
      "1/1 [==============================] - 0s 16ms/step\n",
      "1/1 [==============================] - 0s 16ms/step\n",
      "1/1 [==============================] - 0s 7ms/step\n",
      "1/1 [==============================] - 0s 16ms/step\n",
      "1/1 [==============================] - 0s 13ms/step\n",
      "1/1 [==============================] - 0s 17ms/step\n",
      "1/1 [==============================] - 0s 12ms/step\n",
      "1/1 [==============================] - 0s 5ms/step\n",
      "1/1 [==============================] - 0s 20ms/step\n",
      "1/1 [==============================] - 0s 16ms/step\n",
      "1/1 [==============================] - 0s 16ms/step\n",
      "1/1 [==============================] - 0s 11ms/step\n",
      "1/1 [==============================] - 0s 16ms/step\n",
      "1/1 [==============================] - 0s 11ms/step\n",
      "1/1 [==============================] - 0s 12ms/step\n",
      "1/1 [==============================] - 0s 4ms/step\n",
      "1/1 [==============================] - 0s 11ms/step\n",
      "1/1 [==============================] - 0s 5ms/step\n",
      "1/1 [==============================] - 0s 15ms/step\n",
      "1/1 [==============================] - 0s 6ms/step\n",
      "False\n",
      "1/1 [==============================] - 0s 16ms/step\n",
      "1/1 [==============================] - 0s 13ms/step\n",
      "1/1 [==============================] - 0s 4ms/step\n",
      "1/1 [==============================] - 0s 16ms/step\n",
      "1/1 [==============================] - 0s 16ms/step\n",
      "1/1 [==============================] - 0s 16ms/step\n",
      "1/1 [==============================] - 0s 16ms/step\n",
      "1/1 [==============================] - 0s 16ms/step\n",
      "1/1 [==============================] - 0s 17ms/step\n",
      "1/1 [==============================] - 0s 16ms/step\n",
      "1/1 [==============================] - 0s 16ms/step\n",
      "1/1 [==============================] - 0s 16ms/step\n",
      "1/1 [==============================] - 0s 17ms/step\n",
      "1/1 [==============================] - 0s 16ms/step\n",
      "1/1 [==============================] - 0s 16ms/step\n",
      "1/1 [==============================] - 0s 16ms/step\n",
      "1/1 [==============================] - 0s 16ms/step\n",
      "1/1 [==============================] - 0s 16ms/step\n",
      "1/1 [==============================] - 0s 16ms/step\n",
      "1/1 [==============================] - 0s 31ms/step\n",
      "1/1 [==============================] - 0s 24ms/step\n",
      "1/1 [==============================] - 0s 17ms/step\n",
      "1/1 [==============================] - 0s 17ms/step\n",
      "1/1 [==============================] - 0s 16ms/step\n",
      "1/1 [==============================] - 0s 15ms/step\n",
      "1/1 [==============================] - 0s 17ms/step\n",
      "1/1 [==============================] - 0s 16ms/step\n",
      "1/1 [==============================] - 0s 18ms/step\n",
      "1/1 [==============================] - 0s 16ms/step\n",
      "1/1 [==============================] - 0s 17ms/step\n",
      "1/1 [==============================] - 0s 17ms/step\n",
      "1/1 [==============================] - 0s 24ms/step\n",
      "1/1 [==============================] - 0s 23ms/step\n",
      "1/1 [==============================] - 0s 16ms/step\n",
      "1/1 [==============================] - 0s 21ms/step\n",
      "1/1 [==============================] - 0s 18ms/step\n",
      "1/1 [==============================] - 0s 18ms/step\n",
      "1/1 [==============================] - 0s 16ms/step\n",
      "1/1 [==============================] - 0s 22ms/step\n",
      "1/1 [==============================] - 0s 17ms/step\n",
      "1/1 [==============================] - 0s 20ms/step\n",
      "1/1 [==============================] - 0s 15ms/step\n",
      "1/1 [==============================] - 0s 25ms/step\n",
      "1/1 [==============================] - 0s 18ms/step\n",
      "1/1 [==============================] - 0s 18ms/step\n",
      "1/1 [==============================] - 0s 19ms/step\n",
      "1/1 [==============================] - 0s 29ms/step\n",
      "1/1 [==============================] - 0s 18ms/step\n",
      "1/1 [==============================] - 0s 25ms/step\n",
      "1/1 [==============================] - 0s 15ms/step\n",
      "True\n",
      "1/1 [==============================] - 0s 20ms/step\n",
      "1/1 [==============================] - 0s 22ms/step\n",
      "1/1 [==============================] - 0s 17ms/step\n",
      "1/1 [==============================] - 0s 15ms/step\n",
      "1/1 [==============================] - 0s 21ms/step\n",
      "1/1 [==============================] - 0s 13ms/step\n",
      "1/1 [==============================] - 0s 11ms/step\n",
      "1/1 [==============================] - 0s 12ms/step\n",
      "1/1 [==============================] - 0s 14ms/step\n",
      "1/1 [==============================] - 0s 16ms/step\n",
      "1/1 [==============================] - 0s 15ms/step\n",
      "1/1 [==============================] - 0s 16ms/step\n",
      "1/1 [==============================] - 0s 16ms/step\n",
      "1/1 [==============================] - 0s 16ms/step\n"
     ]
    },
    {
     "name": "stdout",
     "output_type": "stream",
     "text": [
      "1/1 [==============================] - 0s 16ms/step\n",
      "1/1 [==============================] - 0s 17ms/step\n",
      "1/1 [==============================] - 0s 14ms/step\n",
      "1/1 [==============================] - 0s 13ms/step\n",
      "1/1 [==============================] - 0s 14ms/step\n",
      "1/1 [==============================] - 0s 17ms/step\n",
      "1/1 [==============================] - 0s 16ms/step\n",
      "1/1 [==============================] - 0s 17ms/step\n",
      "1/1 [==============================] - 0s 16ms/step\n",
      "1/1 [==============================] - 0s 17ms/step\n",
      "1/1 [==============================] - 0s 16ms/step\n",
      "1/1 [==============================] - 0s 16ms/step\n",
      "1/1 [==============================] - 0s 16ms/step\n",
      "1/1 [==============================] - 0s 18ms/step\n",
      "1/1 [==============================] - 0s 17ms/step\n",
      "1/1 [==============================] - 0s 15ms/step\n",
      "1/1 [==============================] - 0s 18ms/step\n",
      "1/1 [==============================] - 0s 19ms/step\n",
      "1/1 [==============================] - 0s 18ms/step\n",
      "1/1 [==============================] - 0s 24ms/step\n",
      "1/1 [==============================] - 0s 17ms/step\n",
      "1/1 [==============================] - 0s 17ms/step\n",
      "1/1 [==============================] - 0s 17ms/step\n",
      "1/1 [==============================] - 0s 16ms/step\n",
      "1/1 [==============================] - 0s 18ms/step\n",
      "1/1 [==============================] - 0s 15ms/step\n",
      "1/1 [==============================] - 0s 18ms/step\n",
      "1/1 [==============================] - 0s 20ms/step\n",
      "1/1 [==============================] - 0s 12ms/step\n",
      "1/1 [==============================] - 0s 14ms/step\n",
      "1/1 [==============================] - 0s 18ms/step\n",
      "1/1 [==============================] - 0s 20ms/step\n",
      "1/1 [==============================] - 0s 16ms/step\n",
      "1/1 [==============================] - 0s 18ms/step\n",
      "1/1 [==============================] - 0s 22ms/step\n",
      "1/1 [==============================] - 0s 17ms/step\n",
      "True\n"
     ]
    }
   ],
   "source": [
    "cap = cv2.VideoCapture(0)\n",
    "while cap.isOpened():\n",
    "    ret, frame = cap.read()\n",
    "    frame = frame[120:120+250,200:200+250, :]\n",
    "    \n",
    "    cv2.imshow('Verification', frame)\n",
    "    \n",
    "    # Verification trigger\n",
    "    if cv2.waitKey(10) & 0xFF == ord('v'):\n",
    "        # Save input image to application_data/input_image folder \n",
    "        cv2.imwrite(os.path.join('application_data', 'input_image', 'input_image.jpg'), frame)\n",
    "        # Run verification\n",
    "        results, verified = verify(model, 0.9, 0.5)\n",
    "        print(verified)\n",
    "    \n",
    "    if cv2.waitKey(10) & 0xFF == ord('q'):\n",
    "        break\n",
    "cap.release()\n",
    "cv2.destroyAllWindows()"
   ]
  },
  {
   "cell_type": "code",
   "execution_count": 92,
   "id": "dae5ec1c",
   "metadata": {},
   "outputs": [
    {
     "data": {
      "text/plain": [
       "27"
      ]
     },
     "execution_count": 92,
     "metadata": {},
     "output_type": "execute_result"
    }
   ],
   "source": [
    "np.sum(np.squeeze(results) > 0.9)"
   ]
  },
  {
   "cell_type": "code",
   "execution_count": 93,
   "id": "46c94b6d",
   "metadata": {},
   "outputs": [
    {
     "name": "stdout",
     "output_type": "stream",
     "text": [
      "Model: \"SiameseNetwork\"\n",
      "__________________________________________________________________________________________________\n",
      " Layer (type)                   Output Shape         Param #     Connected to                     \n",
      "==================================================================================================\n",
      " input_img (InputLayer)         [(None, 100, 100, 3  0           []                               \n",
      "                                )]                                                                \n",
      "                                                                                                  \n",
      " validation_img (InputLayer)    [(None, 100, 100, 3  0           []                               \n",
      "                                )]                                                                \n",
      "                                                                                                  \n",
      " embedding (Functional)         (None, 4096)         38960448    ['input_img[0][0]',              \n",
      "                                                                  'validation_img[0][0]']         \n",
      "                                                                                                  \n",
      " l1_dist_2 (L1Dist)             (None, 4096)         0           ['embedding[0][0]',              \n",
      "                                                                  'embedding[1][0]']              \n",
      "                                                                                                  \n",
      " dense_2 (Dense)                (None, 1)            4097        ['l1_dist_2[0][0]']              \n",
      "                                                                                                  \n",
      "==================================================================================================\n",
      "Total params: 38,964,545\n",
      "Trainable params: 38,964,545\n",
      "Non-trainable params: 0\n",
      "__________________________________________________________________________________________________\n"
     ]
    }
   ],
   "source": [
    "model.summary()"
   ]
  },
  {
   "cell_type": "code",
   "execution_count": 94,
   "id": "cdfab58b",
   "metadata": {},
   "outputs": [
    {
     "data": {
      "text/plain": [
       "0.54"
      ]
     },
     "execution_count": 94,
     "metadata": {},
     "output_type": "execute_result"
    }
   ],
   "source": [
    "27/50"
   ]
  },
  {
   "cell_type": "code",
   "execution_count": null,
   "id": "e31fcf8f",
   "metadata": {},
   "outputs": [],
   "source": []
  }
 ],
 "metadata": {
  "kernelspec": {
   "display_name": "Python 3 (ipykernel)",
   "language": "python",
   "name": "python3"
  },
  "language_info": {
   "codemirror_mode": {
    "name": "ipython",
    "version": 3
   },
   "file_extension": ".py",
   "mimetype": "text/x-python",
   "name": "python",
   "nbconvert_exporter": "python",
   "pygments_lexer": "ipython3",
   "version": "3.10.13"
  }
 },
 "nbformat": 4,
 "nbformat_minor": 5
}
